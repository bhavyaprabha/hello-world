{
 "cells": [
  {
   "cell_type": "code",
   "execution_count": 1,
   "metadata": {},
   "outputs": [],
   "source": [
    "import numpy as np\n",
    "import pandas as pd\n",
    "import matplotlib.pyplot as plt\n",
    "import seaborn as sns\n",
    "import datetime as dt\n",
    "%matplotlib inline"
   ]
  },
  {
   "cell_type": "raw",
   "metadata": {},
   "source": [
    "#Reading the file into a dataframe and sorting the df based on ticket no and time"
   ]
  },
  {
   "cell_type": "code",
   "execution_count": 2,
   "metadata": {},
   "outputs": [],
   "source": [
    "file_path=r'C:\\Users\\bhavrang\\Documents\\Analytics vidhya\\GlobalDataChallenge-II\\global_data_science_challenge_2_public-master/data/gdsc2_public.csv'\n",
    "df=pd.read_csv(file_path, sep=';', parse_dates=['timestamp'])\n",
    "df=df.sort_values(by=['work_item','timestamp'])"
   ]
  },
  {
   "cell_type": "code",
   "execution_count": 4,
   "metadata": {},
   "outputs": [],
   "source": [
    "#importing userdefined modules to perform relevant tasks on given dataset\n",
    "import source_func as sf"
   ]
  },
  {
   "cell_type": "code",
   "execution_count": 78,
   "metadata": {},
   "outputs": [
    {
     "data": {
      "text/plain": [
       "<module 'source_func' from 'C:\\\\Users\\\\bhavrang\\\\Documents\\\\Analytics vidhya\\\\GlobalDataChallenge-II\\\\source_func.py'>"
      ]
     },
     "execution_count": 78,
     "metadata": {},
     "output_type": "execute_result"
    }
   ],
   "source": [
    "import imp\n",
    "imp.reload(sf)"
   ]
  },
  {
   "cell_type": "raw",
   "metadata": {},
   "source": [
    "# the below function takes df as input and performs all cleaning tasks and returns a dataframe which contains duration of ticket"
   ]
  },
  {
   "cell_type": "code",
   "execution_count": 79,
   "metadata": {},
   "outputs": [
    {
     "data": {
      "text/html": [
       "<div>\n",
       "<style scoped>\n",
       "    .dataframe tbody tr th:only-of-type {\n",
       "        vertical-align: middle;\n",
       "    }\n",
       "\n",
       "    .dataframe tbody tr th {\n",
       "        vertical-align: top;\n",
       "    }\n",
       "\n",
       "    .dataframe thead th {\n",
       "        text-align: right;\n",
       "    }\n",
       "</style>\n",
       "<table border=\"1\" class=\"dataframe\">\n",
       "  <thead>\n",
       "    <tr style=\"text-align: right;\">\n",
       "      <th></th>\n",
       "      <th>work_item</th>\n",
       "      <th>start</th>\n",
       "      <th>end</th>\n",
       "      <th>duration</th>\n",
       "      <th>duration_in_days</th>\n",
       "    </tr>\n",
       "  </thead>\n",
       "  <tbody>\n",
       "    <tr>\n",
       "      <th>0</th>\n",
       "      <td>WI_000001</td>\n",
       "      <td>2015-01-02 14:39:14</td>\n",
       "      <td>2015-01-27 11:36:51</td>\n",
       "      <td>24 days 20:57:37</td>\n",
       "      <td>24.87</td>\n",
       "    </tr>\n",
       "    <tr>\n",
       "      <th>1</th>\n",
       "      <td>WI_000002</td>\n",
       "      <td>2015-01-02 15:04:20</td>\n",
       "      <td>2015-01-14 09:46:37</td>\n",
       "      <td>11 days 18:42:17</td>\n",
       "      <td>11.78</td>\n",
       "    </tr>\n",
       "    <tr>\n",
       "      <th>2</th>\n",
       "      <td>WI_000003</td>\n",
       "      <td>2015-01-02 15:28:22</td>\n",
       "      <td>2015-02-26 11:50:37</td>\n",
       "      <td>54 days 20:22:15</td>\n",
       "      <td>54.85</td>\n",
       "    </tr>\n",
       "    <tr>\n",
       "      <th>3</th>\n",
       "      <td>WI_000004</td>\n",
       "      <td>2015-01-02 15:33:54</td>\n",
       "      <td>2015-01-28 09:11:05</td>\n",
       "      <td>25 days 17:37:11</td>\n",
       "      <td>25.73</td>\n",
       "    </tr>\n",
       "    <tr>\n",
       "      <th>4</th>\n",
       "      <td>WI_000005</td>\n",
       "      <td>2015-01-02 16:32:11</td>\n",
       "      <td>2015-02-04 12:57:49</td>\n",
       "      <td>32 days 20:25:38</td>\n",
       "      <td>32.85</td>\n",
       "    </tr>\n",
       "  </tbody>\n",
       "</table>\n",
       "</div>"
      ],
      "text/plain": [
       "   work_item               start                 end         duration  \\\n",
       "0  WI_000001 2015-01-02 14:39:14 2015-01-27 11:36:51 24 days 20:57:37   \n",
       "1  WI_000002 2015-01-02 15:04:20 2015-01-14 09:46:37 11 days 18:42:17   \n",
       "2  WI_000003 2015-01-02 15:28:22 2015-02-26 11:50:37 54 days 20:22:15   \n",
       "3  WI_000004 2015-01-02 15:33:54 2015-01-28 09:11:05 25 days 17:37:11   \n",
       "4  WI_000005 2015-01-02 16:32:11 2015-02-04 12:57:49 32 days 20:25:38   \n",
       "\n",
       "   duration_in_days  \n",
       "0             24.87  \n",
       "1             11.78  \n",
       "2             54.85  \n",
       "3             25.73  \n",
       "4             32.85  "
      ]
     },
     "execution_count": 79,
     "metadata": {},
     "output_type": "execute_result"
    }
   ],
   "source": [
    "times=sf.compute_work_item_times(df)\n",
    "times.head()"
   ]
  },
  {
   "cell_type": "raw",
   "metadata": {},
   "source": [
    "#to get the information of tkts at a day level below function is used,it will return a dataframe having no of tkts closed and opened per day."
   ]
  },
  {
   "cell_type": "code",
   "execution_count": 6,
   "metadata": {},
   "outputs": [
    {
     "data": {
      "text/html": [
       "<div>\n",
       "<style scoped>\n",
       "    .dataframe tbody tr th:only-of-type {\n",
       "        vertical-align: middle;\n",
       "    }\n",
       "\n",
       "    .dataframe tbody tr th {\n",
       "        vertical-align: top;\n",
       "    }\n",
       "\n",
       "    .dataframe thead th {\n",
       "        text-align: right;\n",
       "    }\n",
       "</style>\n",
       "<table border=\"1\" class=\"dataframe\">\n",
       "  <thead>\n",
       "    <tr style=\"text-align: right;\">\n",
       "      <th></th>\n",
       "      <th>date</th>\n",
       "      <th>open_tickets_per_day</th>\n",
       "      <th>closed_tickets_per_day</th>\n",
       "      <th>open_tickets_total</th>\n",
       "      <th>closed_tickets_total</th>\n",
       "      <th>wip_tickets_total</th>\n",
       "    </tr>\n",
       "  </thead>\n",
       "  <tbody>\n",
       "    <tr>\n",
       "      <th>0</th>\n",
       "      <td>2015-01-02</td>\n",
       "      <td>6</td>\n",
       "      <td>0</td>\n",
       "      <td>6</td>\n",
       "      <td>0</td>\n",
       "      <td>6</td>\n",
       "    </tr>\n",
       "    <tr>\n",
       "      <th>1</th>\n",
       "      <td>2015-01-03</td>\n",
       "      <td>1</td>\n",
       "      <td>0</td>\n",
       "      <td>7</td>\n",
       "      <td>0</td>\n",
       "      <td>7</td>\n",
       "    </tr>\n",
       "    <tr>\n",
       "      <th>2</th>\n",
       "      <td>2015-01-04</td>\n",
       "      <td>2</td>\n",
       "      <td>0</td>\n",
       "      <td>9</td>\n",
       "      <td>0</td>\n",
       "      <td>9</td>\n",
       "    </tr>\n",
       "    <tr>\n",
       "      <th>3</th>\n",
       "      <td>2015-01-05</td>\n",
       "      <td>22</td>\n",
       "      <td>0</td>\n",
       "      <td>31</td>\n",
       "      <td>0</td>\n",
       "      <td>31</td>\n",
       "    </tr>\n",
       "    <tr>\n",
       "      <th>4</th>\n",
       "      <td>2015-01-06</td>\n",
       "      <td>17</td>\n",
       "      <td>7</td>\n",
       "      <td>48</td>\n",
       "      <td>7</td>\n",
       "      <td>41</td>\n",
       "    </tr>\n",
       "  </tbody>\n",
       "</table>\n",
       "</div>"
      ],
      "text/plain": [
       "        date  open_tickets_per_day  closed_tickets_per_day  \\\n",
       "0 2015-01-02                     6                       0   \n",
       "1 2015-01-03                     1                       0   \n",
       "2 2015-01-04                     2                       0   \n",
       "3 2015-01-05                    22                       0   \n",
       "4 2015-01-06                    17                       7   \n",
       "\n",
       "   open_tickets_total  closed_tickets_total  wip_tickets_total  \n",
       "0                   6                     0                  6  \n",
       "1                   7                     0                  7  \n",
       "2                   9                     0                  9  \n",
       "3                  31                     0                 31  \n",
       "4                  48                     7                 41  "
      ]
     },
     "execution_count": 6,
     "metadata": {},
     "output_type": "execute_result"
    }
   ],
   "source": [
    "ticket_info=sf.tkts_per_day(times)\n",
    "ticket_info.head()"
   ]
  },
  {
   "cell_type": "raw",
   "metadata": {},
   "source": [
    "#below function splits the data into 4 different sets to build ML models, based on status of tkt it will divide as open&closed tkts and based on split date it will divide as train and test set.\n",
    "resultant dataframes contains only workitem and duratin days "
   ]
  },
  {
   "cell_type": "code",
   "execution_count": 14,
   "metadata": {},
   "outputs": [],
   "source": [
    "sep_date_str = '01.01.2018'\n",
    "train_times, test_times, closed_times, open_times=sf.split_times(times,sep_date_str)\n",
    "train_work_items= set(train_times.work_item)\n",
    "test_work_items= set(test_times.work_item)\n",
    "closed_work_items= set(closed_times.work_item)\n",
    "open_work_items= set(open_times.work_item)"
   ]
  },
  {
   "cell_type": "raw",
   "metadata": {},
   "source": [
    "open_times.shape # 1042\n",
    "closed_times.shape # 10522"
   ]
  },
  {
   "cell_type": "raw",
   "metadata": {},
   "source": [
    "#feature engineering"
   ]
  },
  {
   "cell_type": "code",
   "execution_count": 82,
   "metadata": {},
   "outputs": [],
   "source": [
    "cols_to_encode=['work_type', 'work_priority', 'domain','platform','components']\n",
    "df_start_only = df[df.from_phase == 'Start']\n",
    "train_df = df_start_only[df_start_only['work_item'].isin(train_work_items)]  \n",
    "test_df = df_start_only[df_start_only['work_item'].isin(test_work_items)]\n",
    "closed_df=df_start_only[df_start_only['work_item'].isin(closed_work_items)]\n",
    "open_df=df_start_only[df_start_only['work_item'].isin(open_work_items)]"
   ]
  },
  {
   "cell_type": "code",
   "execution_count": 83,
   "metadata": {},
   "outputs": [],
   "source": [
    "from sklearn.preprocessing import OneHotEncoder\n",
    "onehotencoder = OneHotEncoder(sparse=False, handle_unknown='ignore')\n",
    "# There will be components that only appear in the test set. To deal with this, we change the handle_unknown flag.\n",
    "train_features = onehotencoder.fit_transform(train_df[cols_to_encode])\n",
    "test_features = onehotencoder.transform(test_df[cols_to_encode])"
   ]
  },
  {
   "cell_type": "code",
   "execution_count": 84,
   "metadata": {},
   "outputs": [],
   "source": [
    "closed_features = onehotencoder.fit_transform(closed_df[cols_to_encode])\n",
    "open_features = onehotencoder.transform(open_df[cols_to_encode])"
   ]
  },
  {
   "cell_type": "code",
   "execution_count": 68,
   "metadata": {},
   "outputs": [
    {
     "data": {
      "text/plain": [
       "array(['x0_WT_00001', 'x0_WT_00002', 'x0_WT_00003', 'x1_WP_00001',\n",
       "       'x1_WP_00002', 'x1_WP_00003', 'x1_WP_00004', 'x1_WP_00005',\n",
       "       'x2_BD_00001', 'x2_BD_00002', 'x2_BD_00003', 'x2_BD_00004',\n",
       "       'x2_BD_00005', 'x2_BD_00006', 'x2_BD_00007', 'x2_BD_00008',\n",
       "       'x2_BD_00009', 'x2_BD_00010', 'x2_BD_00011', 'x3_PL_00001',\n",
       "       'x3_PL_00002', 'x3_PL_00003', 'x3_PL_00004', 'x3_PL_00005',\n",
       "       'x3_PL_00006', 'x3_PL_00007', 'x3_PL_00008', 'x3_PL_00009',\n",
       "       'x3_PL_00010', 'x3_PL_00011', 'x3_PL_00012', 'x3_PL_00013',\n",
       "       'x3_PL_00014', 'x3_PL_00015', 'x3_PL_00016', 'x3_PL_00017',\n",
       "       'x3_PL_00018', 'x3_PL_00019'], dtype=object)"
      ]
     },
     "execution_count": 68,
     "metadata": {},
     "output_type": "execute_result"
    }
   ],
   "source": [
    "onehotencoder.get_feature_names()"
   ]
  },
  {
   "cell_type": "code",
   "execution_count": 90,
   "metadata": {},
   "outputs": [],
   "source": [
    "#for train and test set with in the closed tkts\n",
    "x_train=train_features\n",
    "y_train=train_times\n",
    "x_test=test_features\n",
    "y_test=test_times"
   ]
  },
  {
   "cell_type": "code",
   "execution_count": 73,
   "metadata": {},
   "outputs": [],
   "source": [
    "#for closed and open set \n",
    "x_train=closed_features\n",
    "y_train=closed_times\n",
    "x_test=open_features\n",
    "y_test=open_times"
   ]
  },
  {
   "cell_type": "raw",
   "metadata": {},
   "source": [
    "#Linear regression model"
   ]
  },
  {
   "cell_type": "code",
   "execution_count": 91,
   "metadata": {},
   "outputs": [],
   "source": [
    "from sklearn.linear_model import LinearRegression\n",
    "lr=LinearRegression()\n",
    "lr.fit(x_train,y_train.duration_in_days)\n",
    "y_pred=pd.DataFrame(y_test.work_item)\n",
    "y_pred['predictions']=lr.predict(x_test)"
   ]
  },
  {
   "cell_type": "code",
   "execution_count": 89,
   "metadata": {},
   "outputs": [
    {
     "data": {
      "text/plain": [
       "nan"
      ]
     },
     "execution_count": 89,
     "metadata": {},
     "output_type": "execute_result"
    }
   ],
   "source": [
    "sf.rmsle(y_test,y_pred)"
   ]
  },
  {
   "cell_type": "code",
   "execution_count": null,
   "metadata": {},
   "outputs": [],
   "source": []
  },
  {
   "cell_type": "code",
   "execution_count": 75,
   "metadata": {},
   "outputs": [],
   "source": [
    "y_pred.to_csv('Submission_lr.csv',index=False)"
   ]
  }
 ],
 "metadata": {
  "kernelspec": {
   "display_name": "Python 3",
   "language": "python",
   "name": "python3"
  },
  "language_info": {
   "codemirror_mode": {
    "name": "ipython",
    "version": 3
   },
   "file_extension": ".py",
   "mimetype": "text/x-python",
   "name": "python",
   "nbconvert_exporter": "python",
   "pygments_lexer": "ipython3",
   "version": "3.7.1"
  }
 },
 "nbformat": 4,
 "nbformat_minor": 2
}
