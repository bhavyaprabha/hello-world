{
 "cells": [
  {
   "cell_type": "markdown",
   "metadata": {},
   "source": [
    "# Tutorial 1: Exploratory Data Analysis\n",
    "\n",
    "Welcome to the first of three tutorials for the second **Global Data Science Challenge**. Your task is to predict the lead time of IT support tickets, i.e. the time until a ticket will be closed. In the tutorials you will learn how to run a data science project. In the end, you can build your own solution and compete against the other participants.\n",
    "\n",
    "In the kickoff meeting you learned about the business requirements. In this tutorial, we will do an exploratory data analysis (EDA). This is the first step after you got your hands on some new data. The goal of an EDA is to \n",
    "\n",
    "- Get an understanding of the data and the underlying distributions\n",
    "- Verify that the assumptions made in the business requirements hold\n",
    "\n",
    "Let's get started!"
   ]
  },
  {
   "cell_type": "code",
   "execution_count": 1,
   "metadata": {},
   "outputs": [],
   "source": [
    "# The first cell in a notebook typically contains all the imports you'll need throughout the analysis.\n",
    "import pandas as pd\n",
    "import matplotlib.pyplot as plt\n",
    "plt.style.use('fivethirtyeight')  # Matplotlib support different style sheets. Pick your favourite!\n",
    "\n",
    "# The following line enables plots in jupyter noteboks\n",
    "%matplotlib inline  "
   ]
  },
  {
   "cell_type": "markdown",
   "metadata": {},
   "source": [
    "# Loading the data"
   ]
  },
  {
   "cell_type": "code",
   "execution_count": 2,
   "metadata": {},
   "outputs": [
    {
     "data": {
      "text/html": [
       "<div>\n",
       "<style scoped>\n",
       "    .dataframe tbody tr th:only-of-type {\n",
       "        vertical-align: middle;\n",
       "    }\n",
       "\n",
       "    .dataframe tbody tr th {\n",
       "        vertical-align: top;\n",
       "    }\n",
       "\n",
       "    .dataframe thead th {\n",
       "        text-align: right;\n",
       "    }\n",
       "</style>\n",
       "<table border=\"1\" class=\"dataframe\">\n",
       "  <thead>\n",
       "    <tr style=\"text-align: right;\">\n",
       "      <th></th>\n",
       "      <th>timestamp</th>\n",
       "      <th>work_item</th>\n",
       "      <th>work_type</th>\n",
       "      <th>work_priority</th>\n",
       "      <th>domain</th>\n",
       "      <th>platform</th>\n",
       "      <th>components</th>\n",
       "      <th>from_phase</th>\n",
       "      <th>to_phase</th>\n",
       "      <th>from_resource</th>\n",
       "      <th>to_resource</th>\n",
       "    </tr>\n",
       "  </thead>\n",
       "  <tbody>\n",
       "    <tr>\n",
       "      <th>0</th>\n",
       "      <td>2015-01-02 14:39:14</td>\n",
       "      <td>WI_000001</td>\n",
       "      <td>WT_00001</td>\n",
       "      <td>WP_00003</td>\n",
       "      <td>BD_00001</td>\n",
       "      <td>PL_00001</td>\n",
       "      <td>NaN</td>\n",
       "      <td>NaN</td>\n",
       "      <td>Analyze</td>\n",
       "      <td>NaN</td>\n",
       "      <td>ER_00043</td>\n",
       "    </tr>\n",
       "    <tr>\n",
       "      <th>24</th>\n",
       "      <td>2015-01-05 11:48:08</td>\n",
       "      <td>WI_000001</td>\n",
       "      <td>WT_00001</td>\n",
       "      <td>WP_00003</td>\n",
       "      <td>BD_00001</td>\n",
       "      <td>PL_00001</td>\n",
       "      <td>NaN</td>\n",
       "      <td>Analyze</td>\n",
       "      <td>Design</td>\n",
       "      <td>ER_00043</td>\n",
       "      <td>ER_00149</td>\n",
       "    </tr>\n",
       "    <tr>\n",
       "      <th>29</th>\n",
       "      <td>2015-01-05 12:35:59</td>\n",
       "      <td>WI_000001</td>\n",
       "      <td>WT_00001</td>\n",
       "      <td>WP_00003</td>\n",
       "      <td>BD_00001</td>\n",
       "      <td>PL_00001</td>\n",
       "      <td>NaN</td>\n",
       "      <td>Design</td>\n",
       "      <td>Analyze</td>\n",
       "      <td>ER_00149</td>\n",
       "      <td>ER_00149</td>\n",
       "    </tr>\n",
       "    <tr>\n",
       "      <th>140</th>\n",
       "      <td>2015-01-07 11:04:51</td>\n",
       "      <td>WI_000001</td>\n",
       "      <td>WT_00001</td>\n",
       "      <td>WP_00003</td>\n",
       "      <td>BD_00001</td>\n",
       "      <td>PL_00001</td>\n",
       "      <td>NaN</td>\n",
       "      <td>Analyze</td>\n",
       "      <td>Design</td>\n",
       "      <td>ER_00149</td>\n",
       "      <td>ER_00043</td>\n",
       "    </tr>\n",
       "    <tr>\n",
       "      <th>145</th>\n",
       "      <td>2015-01-07 14:04:44</td>\n",
       "      <td>WI_000001</td>\n",
       "      <td>WT_00001</td>\n",
       "      <td>WP_00003</td>\n",
       "      <td>BD_00001</td>\n",
       "      <td>PL_00001</td>\n",
       "      <td>NaN</td>\n",
       "      <td>Design</td>\n",
       "      <td>Analyze</td>\n",
       "      <td>ER_00043</td>\n",
       "      <td>ER_00149</td>\n",
       "    </tr>\n",
       "  </tbody>\n",
       "</table>\n",
       "</div>"
      ],
      "text/plain": [
       "              timestamp  work_item work_type work_priority    domain  \\\n",
       "0   2015-01-02 14:39:14  WI_000001  WT_00001      WP_00003  BD_00001   \n",
       "24  2015-01-05 11:48:08  WI_000001  WT_00001      WP_00003  BD_00001   \n",
       "29  2015-01-05 12:35:59  WI_000001  WT_00001      WP_00003  BD_00001   \n",
       "140 2015-01-07 11:04:51  WI_000001  WT_00001      WP_00003  BD_00001   \n",
       "145 2015-01-07 14:04:44  WI_000001  WT_00001      WP_00003  BD_00001   \n",
       "\n",
       "     platform components from_phase to_phase from_resource to_resource  \n",
       "0    PL_00001        NaN        NaN  Analyze           NaN    ER_00043  \n",
       "24   PL_00001        NaN    Analyze   Design      ER_00043    ER_00149  \n",
       "29   PL_00001        NaN     Design  Analyze      ER_00149    ER_00149  \n",
       "140  PL_00001        NaN    Analyze   Design      ER_00149    ER_00043  \n",
       "145  PL_00001        NaN     Design  Analyze      ER_00043    ER_00149  "
      ]
     },
     "execution_count": 2,
     "metadata": {},
     "output_type": "execute_result"
    }
   ],
   "source": [
    "file_path='../data/gdsc2_public.csv'\n",
    "df = pd.read_csv(file_path, sep=';', parse_dates=['timestamp'])\n",
    "df = df.sort_values(by=['work_item', 'timestamp']) # To make sure our entries are ordered\n",
    "df.head()"
   ]
  },
  {
   "cell_type": "markdown",
   "metadata": {},
   "source": [
    "The meaning of the columns is as follows:\n",
    "\n",
    "- timestamp: Contains the date and time of each single ticket change. \n",
    "- work_item: The unique ID of a support ticket.\n",
    "- work_type: What kind of ticket (e.g. hotfix, bug, change request)\n",
    "- work_priority: How important the ticket is. Lower numbers mean more important.\n",
    "- domain: From which business area is the ticket\n",
    "- platform: From which platform is the ticket\n",
    "- components: Which components are affected by the ticket\n",
    "- from_phase: The phase in which the ticket was before the change. Note that a missing value denotes a new ticket.\n",
    "- to_phase: The phase in which the ticket was after the change. Note that a missing value denotes that the ticket was closed\n",
    "- from_resource: The ID of the resource (i.e. person) who was working on the ticket till now\n",
    "- to_resource: The ID of the resource (i.e. person) who will now work on this ticket\n",
    "\n",
    "At first glance it seems that the most important columns are timestamp and work_item. Timestamp will define the values we have to predict, work_item sets the IDs. The remaining columns contain information that can be used as features for our model."
   ]
  },
  {
   "cell_type": "markdown",
   "metadata": {},
   "source": [
    "For simplification, we replace the NaNs with names that are easier to understand"
   ]
  },
  {
   "cell_type": "code",
   "execution_count": 4,
   "metadata": {},
   "outputs": [
    {
     "data": {
      "text/html": [
       "<div>\n",
       "<style scoped>\n",
       "    .dataframe tbody tr th:only-of-type {\n",
       "        vertical-align: middle;\n",
       "    }\n",
       "\n",
       "    .dataframe tbody tr th {\n",
       "        vertical-align: top;\n",
       "    }\n",
       "\n",
       "    .dataframe thead th {\n",
       "        text-align: right;\n",
       "    }\n",
       "</style>\n",
       "<table border=\"1\" class=\"dataframe\">\n",
       "  <thead>\n",
       "    <tr style=\"text-align: right;\">\n",
       "      <th></th>\n",
       "      <th>timestamp</th>\n",
       "      <th>work_item</th>\n",
       "      <th>work_type</th>\n",
       "      <th>work_priority</th>\n",
       "      <th>domain</th>\n",
       "      <th>platform</th>\n",
       "      <th>components</th>\n",
       "      <th>from_phase</th>\n",
       "      <th>to_phase</th>\n",
       "      <th>from_resource</th>\n",
       "      <th>to_resource</th>\n",
       "    </tr>\n",
       "  </thead>\n",
       "  <tbody>\n",
       "    <tr>\n",
       "      <th>0</th>\n",
       "      <td>2015-01-02 14:39:14</td>\n",
       "      <td>WI_000001</td>\n",
       "      <td>WT_00001</td>\n",
       "      <td>WP_00003</td>\n",
       "      <td>BD_00001</td>\n",
       "      <td>PL_00001</td>\n",
       "      <td>NaN</td>\n",
       "      <td>Start</td>\n",
       "      <td>Analyze</td>\n",
       "      <td>NaN</td>\n",
       "      <td>ER_00043</td>\n",
       "    </tr>\n",
       "    <tr>\n",
       "      <th>24</th>\n",
       "      <td>2015-01-05 11:48:08</td>\n",
       "      <td>WI_000001</td>\n",
       "      <td>WT_00001</td>\n",
       "      <td>WP_00003</td>\n",
       "      <td>BD_00001</td>\n",
       "      <td>PL_00001</td>\n",
       "      <td>NaN</td>\n",
       "      <td>Analyze</td>\n",
       "      <td>Design</td>\n",
       "      <td>ER_00043</td>\n",
       "      <td>ER_00149</td>\n",
       "    </tr>\n",
       "    <tr>\n",
       "      <th>29</th>\n",
       "      <td>2015-01-05 12:35:59</td>\n",
       "      <td>WI_000001</td>\n",
       "      <td>WT_00001</td>\n",
       "      <td>WP_00003</td>\n",
       "      <td>BD_00001</td>\n",
       "      <td>PL_00001</td>\n",
       "      <td>NaN</td>\n",
       "      <td>Design</td>\n",
       "      <td>Analyze</td>\n",
       "      <td>ER_00149</td>\n",
       "      <td>ER_00149</td>\n",
       "    </tr>\n",
       "    <tr>\n",
       "      <th>140</th>\n",
       "      <td>2015-01-07 11:04:51</td>\n",
       "      <td>WI_000001</td>\n",
       "      <td>WT_00001</td>\n",
       "      <td>WP_00003</td>\n",
       "      <td>BD_00001</td>\n",
       "      <td>PL_00001</td>\n",
       "      <td>NaN</td>\n",
       "      <td>Analyze</td>\n",
       "      <td>Design</td>\n",
       "      <td>ER_00149</td>\n",
       "      <td>ER_00043</td>\n",
       "    </tr>\n",
       "    <tr>\n",
       "      <th>145</th>\n",
       "      <td>2015-01-07 14:04:44</td>\n",
       "      <td>WI_000001</td>\n",
       "      <td>WT_00001</td>\n",
       "      <td>WP_00003</td>\n",
       "      <td>BD_00001</td>\n",
       "      <td>PL_00001</td>\n",
       "      <td>NaN</td>\n",
       "      <td>Design</td>\n",
       "      <td>Analyze</td>\n",
       "      <td>ER_00043</td>\n",
       "      <td>ER_00149</td>\n",
       "    </tr>\n",
       "  </tbody>\n",
       "</table>\n",
       "</div>"
      ],
      "text/plain": [
       "              timestamp  work_item work_type work_priority    domain  \\\n",
       "0   2015-01-02 14:39:14  WI_000001  WT_00001      WP_00003  BD_00001   \n",
       "24  2015-01-05 11:48:08  WI_000001  WT_00001      WP_00003  BD_00001   \n",
       "29  2015-01-05 12:35:59  WI_000001  WT_00001      WP_00003  BD_00001   \n",
       "140 2015-01-07 11:04:51  WI_000001  WT_00001      WP_00003  BD_00001   \n",
       "145 2015-01-07 14:04:44  WI_000001  WT_00001      WP_00003  BD_00001   \n",
       "\n",
       "     platform components from_phase to_phase from_resource to_resource  \n",
       "0    PL_00001        NaN      Start  Analyze           NaN    ER_00043  \n",
       "24   PL_00001        NaN    Analyze   Design      ER_00043    ER_00149  \n",
       "29   PL_00001        NaN     Design  Analyze      ER_00149    ER_00149  \n",
       "140  PL_00001        NaN    Analyze   Design      ER_00149    ER_00043  \n",
       "145  PL_00001        NaN     Design  Analyze      ER_00043    ER_00149  "
      ]
     },
     "execution_count": 4,
     "metadata": {},
     "output_type": "execute_result"
    }
   ],
   "source": [
    "df.from_phase.fillna('Start', inplace=True)  \n",
    "df.to_phase.fillna('End', inplace=True)\n",
    "df.head()"
   ]
  },
  {
   "cell_type": "markdown",
   "metadata": {},
   "source": [
    "# Exploratory Data Analysis (EDA)\n",
    "Let's take a closer look at the data. Remember the goals of the EDA:\n",
    "- Get an understanding of the data and the underlying distributions\n",
    "- Verify that the assumptions made in the business requirements hold"
   ]
  },
  {
   "cell_type": "code",
   "execution_count": 5,
   "metadata": {},
   "outputs": [
    {
     "name": "stdout",
     "output_type": "stream",
     "text": [
      "2015-01-02 14:39:14\n",
      "2018-03-30 19:07:03\n",
      "11564\n"
     ]
    }
   ],
   "source": [
    "print(min(df.timestamp))\n",
    "print(max(df.timestamp))\n",
    "print(len(df.work_item.unique()))"
   ]
  },
  {
   "cell_type": "markdown",
   "metadata": {},
   "source": [
    "The data set contains information about 11564 tickets. The first entry is from from the date 02.01.2015, the last from 30.03.2018. Next, we consider the workflow of single tickets"
   ]
  },
  {
   "cell_type": "code",
   "execution_count": 5,
   "metadata": {},
   "outputs": [
    {
     "data": {
      "text/html": [
       "<div>\n",
       "<style scoped>\n",
       "    .dataframe tbody tr th:only-of-type {\n",
       "        vertical-align: middle;\n",
       "    }\n",
       "\n",
       "    .dataframe tbody tr th {\n",
       "        vertical-align: top;\n",
       "    }\n",
       "\n",
       "    .dataframe thead th {\n",
       "        text-align: right;\n",
       "    }\n",
       "</style>\n",
       "<table border=\"1\" class=\"dataframe\">\n",
       "  <thead>\n",
       "    <tr style=\"text-align: right;\">\n",
       "      <th></th>\n",
       "      <th>timestamp</th>\n",
       "      <th>work_item</th>\n",
       "      <th>work_type</th>\n",
       "      <th>work_priority</th>\n",
       "      <th>domain</th>\n",
       "      <th>platform</th>\n",
       "      <th>components</th>\n",
       "      <th>from_phase</th>\n",
       "      <th>to_phase</th>\n",
       "      <th>from_resource</th>\n",
       "      <th>to_resource</th>\n",
       "    </tr>\n",
       "  </thead>\n",
       "  <tbody>\n",
       "    <tr>\n",
       "      <th>32621</th>\n",
       "      <td>2016-11-16 14:53:35</td>\n",
       "      <td>WI_005405</td>\n",
       "      <td>WT_00001</td>\n",
       "      <td>WP_00002</td>\n",
       "      <td>BD_00008</td>\n",
       "      <td>PL_00014</td>\n",
       "      <td>NaN</td>\n",
       "      <td>Start</td>\n",
       "      <td>Analyze</td>\n",
       "      <td>NaN</td>\n",
       "      <td>ER_00284</td>\n",
       "    </tr>\n",
       "    <tr>\n",
       "      <th>32622</th>\n",
       "      <td>2016-11-16 14:53:39</td>\n",
       "      <td>WI_005405</td>\n",
       "      <td>WT_00001</td>\n",
       "      <td>WP_00002</td>\n",
       "      <td>BD_00008</td>\n",
       "      <td>PL_00014</td>\n",
       "      <td>NaN</td>\n",
       "      <td>Analyze</td>\n",
       "      <td>End</td>\n",
       "      <td>ER_00284</td>\n",
       "      <td>NaN</td>\n",
       "    </tr>\n",
       "  </tbody>\n",
       "</table>\n",
       "</div>"
      ],
      "text/plain": [
       "                timestamp  work_item work_type work_priority    domain  \\\n",
       "32621 2016-11-16 14:53:35  WI_005405  WT_00001      WP_00002  BD_00008   \n",
       "32622 2016-11-16 14:53:39  WI_005405  WT_00001      WP_00002  BD_00008   \n",
       "\n",
       "       platform components from_phase to_phase from_resource to_resource  \n",
       "32621  PL_00014        NaN      Start  Analyze           NaN    ER_00284  \n",
       "32622  PL_00014        NaN    Analyze      End      ER_00284         NaN  "
      ]
     },
     "execution_count": 5,
     "metadata": {},
     "output_type": "execute_result"
    }
   ],
   "source": [
    "df[df.work_item == 'WI_005405']"
   ]
  },
  {
   "cell_type": "markdown",
   "metadata": {},
   "source": [
    "Ticket WI_005405 was closed after only 4 seconds. Seems like someone took at look and decided it was a non-issue."
   ]
  },
  {
   "cell_type": "code",
   "execution_count": 6,
   "metadata": {},
   "outputs": [
    {
     "data": {
      "text/html": [
       "<div>\n",
       "<style scoped>\n",
       "    .dataframe tbody tr th:only-of-type {\n",
       "        vertical-align: middle;\n",
       "    }\n",
       "\n",
       "    .dataframe tbody tr th {\n",
       "        vertical-align: top;\n",
       "    }\n",
       "\n",
       "    .dataframe thead th {\n",
       "        text-align: right;\n",
       "    }\n",
       "</style>\n",
       "<table border=\"1\" class=\"dataframe\">\n",
       "  <thead>\n",
       "    <tr style=\"text-align: right;\">\n",
       "      <th></th>\n",
       "      <th>timestamp</th>\n",
       "      <th>work_item</th>\n",
       "      <th>work_type</th>\n",
       "      <th>work_priority</th>\n",
       "      <th>domain</th>\n",
       "      <th>platform</th>\n",
       "      <th>components</th>\n",
       "      <th>from_phase</th>\n",
       "      <th>to_phase</th>\n",
       "      <th>from_resource</th>\n",
       "      <th>to_resource</th>\n",
       "    </tr>\n",
       "  </thead>\n",
       "  <tbody>\n",
       "    <tr>\n",
       "      <th>1165</th>\n",
       "      <td>2015-02-02 19:58:53</td>\n",
       "      <td>WI_000273</td>\n",
       "      <td>WT_00003</td>\n",
       "      <td>WP_00002</td>\n",
       "      <td>BD_00007</td>\n",
       "      <td>PL_00007</td>\n",
       "      <td>NaN</td>\n",
       "      <td>Start</td>\n",
       "      <td>Analyze</td>\n",
       "      <td>NaN</td>\n",
       "      <td>ER_00048</td>\n",
       "    </tr>\n",
       "    <tr>\n",
       "      <th>1184</th>\n",
       "      <td>2015-02-03 10:38:27</td>\n",
       "      <td>WI_000273</td>\n",
       "      <td>WT_00003</td>\n",
       "      <td>WP_00002</td>\n",
       "      <td>BD_00007</td>\n",
       "      <td>PL_00007</td>\n",
       "      <td>NaN</td>\n",
       "      <td>Analyze</td>\n",
       "      <td>Design</td>\n",
       "      <td>ER_00048</td>\n",
       "      <td>ER_00091</td>\n",
       "    </tr>\n",
       "    <tr>\n",
       "      <th>26789</th>\n",
       "      <td>2016-08-01 17:04:51</td>\n",
       "      <td>WI_000273</td>\n",
       "      <td>WT_00003</td>\n",
       "      <td>WP_00002</td>\n",
       "      <td>BD_00007</td>\n",
       "      <td>PL_00007</td>\n",
       "      <td>NaN</td>\n",
       "      <td>Design</td>\n",
       "      <td>Build</td>\n",
       "      <td>ER_00091</td>\n",
       "      <td>ER_00091</td>\n",
       "    </tr>\n",
       "    <tr>\n",
       "      <th>26790</th>\n",
       "      <td>2016-08-01 17:05:13</td>\n",
       "      <td>WI_000273</td>\n",
       "      <td>WT_00003</td>\n",
       "      <td>WP_00002</td>\n",
       "      <td>BD_00007</td>\n",
       "      <td>PL_00007</td>\n",
       "      <td>NaN</td>\n",
       "      <td>Build</td>\n",
       "      <td>Test</td>\n",
       "      <td>ER_00091</td>\n",
       "      <td>ER_00091</td>\n",
       "    </tr>\n",
       "    <tr>\n",
       "      <th>26791</th>\n",
       "      <td>2016-08-01 17:05:17</td>\n",
       "      <td>WI_000273</td>\n",
       "      <td>WT_00003</td>\n",
       "      <td>WP_00002</td>\n",
       "      <td>BD_00007</td>\n",
       "      <td>PL_00007</td>\n",
       "      <td>NaN</td>\n",
       "      <td>Test</td>\n",
       "      <td>Package</td>\n",
       "      <td>ER_00091</td>\n",
       "      <td>ER_00091</td>\n",
       "    </tr>\n",
       "    <tr>\n",
       "      <th>26792</th>\n",
       "      <td>2016-08-01 17:05:24</td>\n",
       "      <td>WI_000273</td>\n",
       "      <td>WT_00003</td>\n",
       "      <td>WP_00002</td>\n",
       "      <td>BD_00007</td>\n",
       "      <td>PL_00007</td>\n",
       "      <td>NaN</td>\n",
       "      <td>Package</td>\n",
       "      <td>Accept</td>\n",
       "      <td>ER_00091</td>\n",
       "      <td>ER_00091</td>\n",
       "    </tr>\n",
       "    <tr>\n",
       "      <th>43738</th>\n",
       "      <td>2017-05-03 14:42:20</td>\n",
       "      <td>WI_000273</td>\n",
       "      <td>WT_00003</td>\n",
       "      <td>WP_00002</td>\n",
       "      <td>BD_00007</td>\n",
       "      <td>PL_00007</td>\n",
       "      <td>NaN</td>\n",
       "      <td>Accept</td>\n",
       "      <td>Test</td>\n",
       "      <td>ER_00091</td>\n",
       "      <td>ER_00048</td>\n",
       "    </tr>\n",
       "    <tr>\n",
       "      <th>57574</th>\n",
       "      <td>2017-10-30 16:11:27</td>\n",
       "      <td>WI_000273</td>\n",
       "      <td>WT_00003</td>\n",
       "      <td>WP_00002</td>\n",
       "      <td>BD_00007</td>\n",
       "      <td>PL_00007</td>\n",
       "      <td>NaN</td>\n",
       "      <td>Test</td>\n",
       "      <td>Build</td>\n",
       "      <td>ER_00048</td>\n",
       "      <td>ER_00262</td>\n",
       "    </tr>\n",
       "    <tr>\n",
       "      <th>71819</th>\n",
       "      <td>2018-03-29 13:39:26</td>\n",
       "      <td>WI_000273</td>\n",
       "      <td>WT_00003</td>\n",
       "      <td>WP_00002</td>\n",
       "      <td>BD_00007</td>\n",
       "      <td>PL_00007</td>\n",
       "      <td>NaN</td>\n",
       "      <td>Build</td>\n",
       "      <td>Test</td>\n",
       "      <td>ER_00262</td>\n",
       "      <td>ER_00262</td>\n",
       "    </tr>\n",
       "  </tbody>\n",
       "</table>\n",
       "</div>"
      ],
      "text/plain": [
       "                timestamp  work_item work_type work_priority    domain  \\\n",
       "1165  2015-02-02 19:58:53  WI_000273  WT_00003      WP_00002  BD_00007   \n",
       "1184  2015-02-03 10:38:27  WI_000273  WT_00003      WP_00002  BD_00007   \n",
       "26789 2016-08-01 17:04:51  WI_000273  WT_00003      WP_00002  BD_00007   \n",
       "26790 2016-08-01 17:05:13  WI_000273  WT_00003      WP_00002  BD_00007   \n",
       "26791 2016-08-01 17:05:17  WI_000273  WT_00003      WP_00002  BD_00007   \n",
       "26792 2016-08-01 17:05:24  WI_000273  WT_00003      WP_00002  BD_00007   \n",
       "43738 2017-05-03 14:42:20  WI_000273  WT_00003      WP_00002  BD_00007   \n",
       "57574 2017-10-30 16:11:27  WI_000273  WT_00003      WP_00002  BD_00007   \n",
       "71819 2018-03-29 13:39:26  WI_000273  WT_00003      WP_00002  BD_00007   \n",
       "\n",
       "       platform components from_phase to_phase from_resource to_resource  \n",
       "1165   PL_00007        NaN      Start  Analyze           NaN    ER_00048  \n",
       "1184   PL_00007        NaN    Analyze   Design      ER_00048    ER_00091  \n",
       "26789  PL_00007        NaN     Design    Build      ER_00091    ER_00091  \n",
       "26790  PL_00007        NaN      Build     Test      ER_00091    ER_00091  \n",
       "26791  PL_00007        NaN       Test  Package      ER_00091    ER_00091  \n",
       "26792  PL_00007        NaN    Package   Accept      ER_00091    ER_00091  \n",
       "43738  PL_00007        NaN     Accept     Test      ER_00091    ER_00048  \n",
       "57574  PL_00007        NaN       Test    Build      ER_00048    ER_00262  \n",
       "71819  PL_00007        NaN      Build     Test      ER_00262    ER_00262  "
      ]
     },
     "execution_count": 6,
     "metadata": {},
     "output_type": "execute_result"
    }
   ],
   "source": [
    "df[df.work_item == 'WI_000273']"
   ]
  },
  {
   "cell_type": "markdown",
   "metadata": {},
   "source": [
    "Ticker WI_000273 shows the other extreme. After more than three years, the ticket is still open. Notice how the status of the ticket, i.e. the values in from_phase and to_phase changes multiple times. Working on a ticket is no simple one-way street, which should be no surprise any developer."
   ]
  },
  {
   "cell_type": "markdown",
   "metadata": {},
   "source": [
    "## Phases\n",
    "The different phases of a work item are a major indicator of *how ready* a work item is. We should know how they are related."
   ]
  },
  {
   "cell_type": "code",
   "execution_count": 9,
   "metadata": {},
   "outputs": [
    {
     "data": {
      "text/html": [
       "<div>\n",
       "<style scoped>\n",
       "    .dataframe tbody tr th:only-of-type {\n",
       "        vertical-align: middle;\n",
       "    }\n",
       "\n",
       "    .dataframe tbody tr th {\n",
       "        vertical-align: top;\n",
       "    }\n",
       "\n",
       "    .dataframe thead th {\n",
       "        text-align: right;\n",
       "    }\n",
       "</style>\n",
       "<table border=\"1\" class=\"dataframe\">\n",
       "  <thead>\n",
       "    <tr style=\"text-align: right;\">\n",
       "      <th>to_phase</th>\n",
       "      <th>Start</th>\n",
       "      <th>Analyze</th>\n",
       "      <th>Clarify</th>\n",
       "      <th>Design</th>\n",
       "      <th>Build</th>\n",
       "      <th>Test</th>\n",
       "      <th>Package</th>\n",
       "      <th>Accept</th>\n",
       "      <th>Deploy</th>\n",
       "      <th>End</th>\n",
       "    </tr>\n",
       "    <tr>\n",
       "      <th>from_phase</th>\n",
       "      <th></th>\n",
       "      <th></th>\n",
       "      <th></th>\n",
       "      <th></th>\n",
       "      <th></th>\n",
       "      <th></th>\n",
       "      <th></th>\n",
       "      <th></th>\n",
       "      <th></th>\n",
       "      <th></th>\n",
       "    </tr>\n",
       "  </thead>\n",
       "  <tbody>\n",
       "    <tr>\n",
       "      <th>Start</th>\n",
       "      <td>NaN</td>\n",
       "      <td>11564.0</td>\n",
       "      <td>0.0</td>\n",
       "      <td>0.0</td>\n",
       "      <td>0.0</td>\n",
       "      <td>0.0</td>\n",
       "      <td>0.0</td>\n",
       "      <td>0.0</td>\n",
       "      <td>0.0</td>\n",
       "      <td>0.0</td>\n",
       "    </tr>\n",
       "    <tr>\n",
       "      <th>Analyze</th>\n",
       "      <td>NaN</td>\n",
       "      <td>172.0</td>\n",
       "      <td>3.0</td>\n",
       "      <td>10034.0</td>\n",
       "      <td>10.0</td>\n",
       "      <td>0.0</td>\n",
       "      <td>0.0</td>\n",
       "      <td>0.0</td>\n",
       "      <td>0.0</td>\n",
       "      <td>1717.0</td>\n",
       "    </tr>\n",
       "    <tr>\n",
       "      <th>Clarify</th>\n",
       "      <td>NaN</td>\n",
       "      <td>2.0</td>\n",
       "      <td>0.0</td>\n",
       "      <td>0.0</td>\n",
       "      <td>0.0</td>\n",
       "      <td>0.0</td>\n",
       "      <td>0.0</td>\n",
       "      <td>0.0</td>\n",
       "      <td>0.0</td>\n",
       "      <td>0.0</td>\n",
       "    </tr>\n",
       "    <tr>\n",
       "      <th>Design</th>\n",
       "      <td>NaN</td>\n",
       "      <td>779.0</td>\n",
       "      <td>0.0</td>\n",
       "      <td>50.0</td>\n",
       "      <td>9114.0</td>\n",
       "      <td>1.0</td>\n",
       "      <td>0.0</td>\n",
       "      <td>0.0</td>\n",
       "      <td>0.0</td>\n",
       "      <td>788.0</td>\n",
       "    </tr>\n",
       "    <tr>\n",
       "      <th>Build</th>\n",
       "      <td>NaN</td>\n",
       "      <td>2.0</td>\n",
       "      <td>0.0</td>\n",
       "      <td>788.0</td>\n",
       "      <td>0.0</td>\n",
       "      <td>5263.0</td>\n",
       "      <td>0.0</td>\n",
       "      <td>3294.0</td>\n",
       "      <td>0.0</td>\n",
       "      <td>663.0</td>\n",
       "    </tr>\n",
       "    <tr>\n",
       "      <th>Test</th>\n",
       "      <td>NaN</td>\n",
       "      <td>0.0</td>\n",
       "      <td>0.0</td>\n",
       "      <td>0.0</td>\n",
       "      <td>971.0</td>\n",
       "      <td>0.0</td>\n",
       "      <td>5796.0</td>\n",
       "      <td>0.0</td>\n",
       "      <td>0.0</td>\n",
       "      <td>0.0</td>\n",
       "    </tr>\n",
       "    <tr>\n",
       "      <th>Package</th>\n",
       "      <td>NaN</td>\n",
       "      <td>0.0</td>\n",
       "      <td>0.0</td>\n",
       "      <td>0.0</td>\n",
       "      <td>0.0</td>\n",
       "      <td>95.0</td>\n",
       "      <td>0.0</td>\n",
       "      <td>4722.0</td>\n",
       "      <td>524.0</td>\n",
       "      <td>441.0</td>\n",
       "    </tr>\n",
       "    <tr>\n",
       "      <th>Accept</th>\n",
       "      <td>NaN</td>\n",
       "      <td>0.0</td>\n",
       "      <td>0.0</td>\n",
       "      <td>0.0</td>\n",
       "      <td>0.0</td>\n",
       "      <td>1460.0</td>\n",
       "      <td>0.0</td>\n",
       "      <td>0.0</td>\n",
       "      <td>6630.0</td>\n",
       "      <td>0.0</td>\n",
       "    </tr>\n",
       "    <tr>\n",
       "      <th>Deploy</th>\n",
       "      <td>NaN</td>\n",
       "      <td>0.0</td>\n",
       "      <td>0.0</td>\n",
       "      <td>0.0</td>\n",
       "      <td>0.0</td>\n",
       "      <td>0.0</td>\n",
       "      <td>0.0</td>\n",
       "      <td>161.0</td>\n",
       "      <td>0.0</td>\n",
       "      <td>6913.0</td>\n",
       "    </tr>\n",
       "    <tr>\n",
       "      <th>End</th>\n",
       "      <td>NaN</td>\n",
       "      <td>NaN</td>\n",
       "      <td>NaN</td>\n",
       "      <td>NaN</td>\n",
       "      <td>NaN</td>\n",
       "      <td>NaN</td>\n",
       "      <td>NaN</td>\n",
       "      <td>NaN</td>\n",
       "      <td>NaN</td>\n",
       "      <td>NaN</td>\n",
       "    </tr>\n",
       "  </tbody>\n",
       "</table>\n",
       "</div>"
      ],
      "text/plain": [
       "to_phase    Start  Analyze  Clarify   Design   Build    Test  Package  Accept  \\\n",
       "from_phase                                                                      \n",
       "Start         NaN  11564.0      0.0      0.0     0.0     0.0      0.0     0.0   \n",
       "Analyze       NaN    172.0      3.0  10034.0    10.0     0.0      0.0     0.0   \n",
       "Clarify       NaN      2.0      0.0      0.0     0.0     0.0      0.0     0.0   \n",
       "Design        NaN    779.0      0.0     50.0  9114.0     1.0      0.0     0.0   \n",
       "Build         NaN      2.0      0.0    788.0     0.0  5263.0      0.0  3294.0   \n",
       "Test          NaN      0.0      0.0      0.0   971.0     0.0   5796.0     0.0   \n",
       "Package       NaN      0.0      0.0      0.0     0.0    95.0      0.0  4722.0   \n",
       "Accept        NaN      0.0      0.0      0.0     0.0  1460.0      0.0     0.0   \n",
       "Deploy        NaN      0.0      0.0      0.0     0.0     0.0      0.0   161.0   \n",
       "End           NaN      NaN      NaN      NaN     NaN     NaN      NaN     NaN   \n",
       "\n",
       "to_phase    Deploy     End  \n",
       "from_phase                  \n",
       "Start          0.0     0.0  \n",
       "Analyze        0.0  1717.0  \n",
       "Clarify        0.0     0.0  \n",
       "Design         0.0   788.0  \n",
       "Build          0.0   663.0  \n",
       "Test           0.0     0.0  \n",
       "Package      524.0   441.0  \n",
       "Accept      6630.0     0.0  \n",
       "Deploy         0.0  6913.0  \n",
       "End            NaN     NaN  "
      ]
     },
     "execution_count": 9,
     "metadata": {},
     "output_type": "execute_result"
    }
   ],
   "source": [
    "crosstab = pd.crosstab(df.from_phase, df.to_phase)\n",
    "crosstab.reindex(index=['Start','Analyze', 'Clarify','Design', 'Build', 'Test', 'Package', 'Accept', 'Deploy', 'End'], \n",
    "               columns=['Start', 'Analyze', 'Clarify', 'Design', 'Build', 'Test', 'Package', 'Accept', 'Deploy', 'End'])\n"
   ]
  },
  {
   "cell_type": "markdown",
   "metadata": {},
   "source": [
    "The default path for a work item seems to be \n",
    "- Start\n",
    "- Analyze\n",
    "- Design\n",
    "- Build\n",
    "- Test\n",
    "- Package\n",
    "- Accept\n",
    "- Deploy\n",
    "- End\n",
    "\n",
    "However, the plot also shows that there are several others paths.\n",
    "\n",
    "**Excercise: Analyse the different workflows via process mining**"
   ]
  },
  {
   "cell_type": "markdown",
   "metadata": {},
   "source": [
    "The crossplot tells us that there are many different phase flows. But what does this mean for the individual tickets? For this analysis, we first aggregate information on a per-ticket level. (Which is also a great way of computing features for the learning algorithm later)"
   ]
  },
  {
   "cell_type": "code",
   "execution_count": 10,
   "metadata": {},
   "outputs": [
    {
     "data": {
      "text/html": [
       "<div>\n",
       "<style scoped>\n",
       "    .dataframe tbody tr th:only-of-type {\n",
       "        vertical-align: middle;\n",
       "    }\n",
       "\n",
       "    .dataframe tbody tr th {\n",
       "        vertical-align: top;\n",
       "    }\n",
       "\n",
       "    .dataframe thead th {\n",
       "        text-align: right;\n",
       "    }\n",
       "</style>\n",
       "<table border=\"1\" class=\"dataframe\">\n",
       "  <thead>\n",
       "    <tr style=\"text-align: right;\">\n",
       "      <th></th>\n",
       "      <th>was_closed</th>\n",
       "      <th>nr_of_phases</th>\n",
       "      <th>unique_phases</th>\n",
       "    </tr>\n",
       "    <tr>\n",
       "      <th>work_item</th>\n",
       "      <th></th>\n",
       "      <th></th>\n",
       "      <th></th>\n",
       "    </tr>\n",
       "  </thead>\n",
       "  <tbody>\n",
       "    <tr>\n",
       "      <th>WI_000001</th>\n",
       "      <td>True</td>\n",
       "      <td>12</td>\n",
       "      <td>8</td>\n",
       "    </tr>\n",
       "    <tr>\n",
       "      <th>WI_000002</th>\n",
       "      <td>True</td>\n",
       "      <td>4</td>\n",
       "      <td>4</td>\n",
       "    </tr>\n",
       "    <tr>\n",
       "      <th>WI_000003</th>\n",
       "      <td>True</td>\n",
       "      <td>8</td>\n",
       "      <td>6</td>\n",
       "    </tr>\n",
       "    <tr>\n",
       "      <th>WI_000004</th>\n",
       "      <td>True</td>\n",
       "      <td>8</td>\n",
       "      <td>8</td>\n",
       "    </tr>\n",
       "    <tr>\n",
       "      <th>WI_000005</th>\n",
       "      <td>True</td>\n",
       "      <td>8</td>\n",
       "      <td>6</td>\n",
       "    </tr>\n",
       "  </tbody>\n",
       "</table>\n",
       "</div>"
      ],
      "text/plain": [
       "           was_closed  nr_of_phases  unique_phases\n",
       "work_item                                         \n",
       "WI_000001        True            12              8\n",
       "WI_000002        True             4              4\n",
       "WI_000003        True             8              6\n",
       "WI_000004        True             8              8\n",
       "WI_000005        True             8              6"
      ]
     },
     "execution_count": 10,
     "metadata": {},
     "output_type": "execute_result"
    }
   ],
   "source": [
    "def aggregation(x):\n",
    "    names = {\n",
    "        'was_closed': max(x['to_phase'] == 'End'),\n",
    "        'nr_of_phases': len(x),  # Not counting the start phase\n",
    "        'unique_phases': x['from_phase'].nunique()  # Not counting the end phase\n",
    "        }\n",
    "    return pd.Series(names)\n",
    "\n",
    "df_workitem_agg = df.groupby('work_item').apply(aggregation)\n",
    "df_workitem_agg.head()"
   ]
  },
  {
   "cell_type": "markdown",
   "metadata": {},
   "source": [
    "We compare the numbers with the original data to test that there is no error in our aggregation."
   ]
  },
  {
   "cell_type": "code",
   "execution_count": 11,
   "metadata": {},
   "outputs": [
    {
     "data": {
      "text/html": [
       "<div>\n",
       "<style scoped>\n",
       "    .dataframe tbody tr th:only-of-type {\n",
       "        vertical-align: middle;\n",
       "    }\n",
       "\n",
       "    .dataframe tbody tr th {\n",
       "        vertical-align: top;\n",
       "    }\n",
       "\n",
       "    .dataframe thead th {\n",
       "        text-align: right;\n",
       "    }\n",
       "</style>\n",
       "<table border=\"1\" class=\"dataframe\">\n",
       "  <thead>\n",
       "    <tr style=\"text-align: right;\">\n",
       "      <th></th>\n",
       "      <th>timestamp</th>\n",
       "      <th>work_item</th>\n",
       "      <th>work_type</th>\n",
       "      <th>work_priority</th>\n",
       "      <th>domain</th>\n",
       "      <th>platform</th>\n",
       "      <th>components</th>\n",
       "      <th>from_phase</th>\n",
       "      <th>to_phase</th>\n",
       "      <th>from_resource</th>\n",
       "      <th>to_resource</th>\n",
       "    </tr>\n",
       "  </thead>\n",
       "  <tbody>\n",
       "    <tr>\n",
       "      <th>2</th>\n",
       "      <td>2015-01-02 15:28:22</td>\n",
       "      <td>WI_000003</td>\n",
       "      <td>WT_00002</td>\n",
       "      <td>WP_00004</td>\n",
       "      <td>BD_00002</td>\n",
       "      <td>PL_00002</td>\n",
       "      <td>CO_00037/CO_00071</td>\n",
       "      <td>Start</td>\n",
       "      <td>Analyze</td>\n",
       "      <td>NaN</td>\n",
       "      <td>ER_00225</td>\n",
       "    </tr>\n",
       "    <tr>\n",
       "      <th>676</th>\n",
       "      <td>2015-01-21 11:37:06</td>\n",
       "      <td>WI_000003</td>\n",
       "      <td>WT_00002</td>\n",
       "      <td>WP_00004</td>\n",
       "      <td>BD_00002</td>\n",
       "      <td>PL_00002</td>\n",
       "      <td>CO_00037/CO_00071</td>\n",
       "      <td>Analyze</td>\n",
       "      <td>Design</td>\n",
       "      <td>ER_00225</td>\n",
       "      <td>ER_00225</td>\n",
       "    </tr>\n",
       "    <tr>\n",
       "      <th>677</th>\n",
       "      <td>2015-01-21 11:39:20</td>\n",
       "      <td>WI_000003</td>\n",
       "      <td>WT_00002</td>\n",
       "      <td>WP_00004</td>\n",
       "      <td>BD_00002</td>\n",
       "      <td>PL_00002</td>\n",
       "      <td>CO_00037/CO_00071</td>\n",
       "      <td>Design</td>\n",
       "      <td>Analyze</td>\n",
       "      <td>ER_00225</td>\n",
       "      <td>ER_00225</td>\n",
       "    </tr>\n",
       "    <tr>\n",
       "      <th>1825</th>\n",
       "      <td>2015-02-16 12:53:44</td>\n",
       "      <td>WI_000003</td>\n",
       "      <td>WT_00002</td>\n",
       "      <td>WP_00004</td>\n",
       "      <td>BD_00002</td>\n",
       "      <td>PL_00002</td>\n",
       "      <td>CO_00037/CO_00071</td>\n",
       "      <td>Analyze</td>\n",
       "      <td>Design</td>\n",
       "      <td>ER_00225</td>\n",
       "      <td>ER_00225</td>\n",
       "    </tr>\n",
       "    <tr>\n",
       "      <th>2127</th>\n",
       "      <td>2015-02-23 09:55:33</td>\n",
       "      <td>WI_000003</td>\n",
       "      <td>WT_00002</td>\n",
       "      <td>WP_00004</td>\n",
       "      <td>BD_00002</td>\n",
       "      <td>PL_00002</td>\n",
       "      <td>CO_00037/CO_00071</td>\n",
       "      <td>Design</td>\n",
       "      <td>Build</td>\n",
       "      <td>ER_00225</td>\n",
       "      <td>ER_00225</td>\n",
       "    </tr>\n",
       "    <tr>\n",
       "      <th>2128</th>\n",
       "      <td>2015-02-23 09:55:37</td>\n",
       "      <td>WI_000003</td>\n",
       "      <td>WT_00002</td>\n",
       "      <td>WP_00004</td>\n",
       "      <td>BD_00002</td>\n",
       "      <td>PL_00002</td>\n",
       "      <td>CO_00037/CO_00071</td>\n",
       "      <td>Build</td>\n",
       "      <td>Test</td>\n",
       "      <td>ER_00225</td>\n",
       "      <td>ER_00225</td>\n",
       "    </tr>\n",
       "    <tr>\n",
       "      <th>2339</th>\n",
       "      <td>2015-02-26 11:50:23</td>\n",
       "      <td>WI_000003</td>\n",
       "      <td>WT_00002</td>\n",
       "      <td>WP_00004</td>\n",
       "      <td>BD_00002</td>\n",
       "      <td>PL_00002</td>\n",
       "      <td>CO_00037/CO_00071</td>\n",
       "      <td>Test</td>\n",
       "      <td>Package</td>\n",
       "      <td>ER_00225</td>\n",
       "      <td>ER_00225</td>\n",
       "    </tr>\n",
       "    <tr>\n",
       "      <th>2340</th>\n",
       "      <td>2015-02-26 11:50:37</td>\n",
       "      <td>WI_000003</td>\n",
       "      <td>WT_00002</td>\n",
       "      <td>WP_00004</td>\n",
       "      <td>BD_00002</td>\n",
       "      <td>PL_00002</td>\n",
       "      <td>CO_00037/CO_00071</td>\n",
       "      <td>Package</td>\n",
       "      <td>End</td>\n",
       "      <td>ER_00225</td>\n",
       "      <td>NaN</td>\n",
       "    </tr>\n",
       "  </tbody>\n",
       "</table>\n",
       "</div>"
      ],
      "text/plain": [
       "               timestamp  work_item work_type work_priority    domain  \\\n",
       "2    2015-01-02 15:28:22  WI_000003  WT_00002      WP_00004  BD_00002   \n",
       "676  2015-01-21 11:37:06  WI_000003  WT_00002      WP_00004  BD_00002   \n",
       "677  2015-01-21 11:39:20  WI_000003  WT_00002      WP_00004  BD_00002   \n",
       "1825 2015-02-16 12:53:44  WI_000003  WT_00002      WP_00004  BD_00002   \n",
       "2127 2015-02-23 09:55:33  WI_000003  WT_00002      WP_00004  BD_00002   \n",
       "2128 2015-02-23 09:55:37  WI_000003  WT_00002      WP_00004  BD_00002   \n",
       "2339 2015-02-26 11:50:23  WI_000003  WT_00002      WP_00004  BD_00002   \n",
       "2340 2015-02-26 11:50:37  WI_000003  WT_00002      WP_00004  BD_00002   \n",
       "\n",
       "      platform         components from_phase to_phase from_resource  \\\n",
       "2     PL_00002  CO_00037/CO_00071      Start  Analyze           NaN   \n",
       "676   PL_00002  CO_00037/CO_00071    Analyze   Design      ER_00225   \n",
       "677   PL_00002  CO_00037/CO_00071     Design  Analyze      ER_00225   \n",
       "1825  PL_00002  CO_00037/CO_00071    Analyze   Design      ER_00225   \n",
       "2127  PL_00002  CO_00037/CO_00071     Design    Build      ER_00225   \n",
       "2128  PL_00002  CO_00037/CO_00071      Build     Test      ER_00225   \n",
       "2339  PL_00002  CO_00037/CO_00071       Test  Package      ER_00225   \n",
       "2340  PL_00002  CO_00037/CO_00071    Package      End      ER_00225   \n",
       "\n",
       "     to_resource  \n",
       "2       ER_00225  \n",
       "676     ER_00225  \n",
       "677     ER_00225  \n",
       "1825    ER_00225  \n",
       "2127    ER_00225  \n",
       "2128    ER_00225  \n",
       "2339    ER_00225  \n",
       "2340         NaN  "
      ]
     },
     "execution_count": 11,
     "metadata": {},
     "output_type": "execute_result"
    }
   ],
   "source": [
    "df[df.work_item == 'WI_000003']"
   ]
  },
  {
   "cell_type": "markdown",
   "metadata": {},
   "source": [
    "The describe and value_counts methods are a great way to get a basic understanding of the data.\n",
    "\n",
    "**Exercise: Filter on the open/closed tickets and see how the numbers change**"
   ]
  },
  {
   "cell_type": "code",
   "execution_count": 12,
   "metadata": {},
   "outputs": [
    {
     "data": {
      "text/html": [
       "<div>\n",
       "<style scoped>\n",
       "    .dataframe tbody tr th:only-of-type {\n",
       "        vertical-align: middle;\n",
       "    }\n",
       "\n",
       "    .dataframe tbody tr th {\n",
       "        vertical-align: top;\n",
       "    }\n",
       "\n",
       "    .dataframe thead th {\n",
       "        text-align: right;\n",
       "    }\n",
       "</style>\n",
       "<table border=\"1\" class=\"dataframe\">\n",
       "  <thead>\n",
       "    <tr style=\"text-align: right;\">\n",
       "      <th></th>\n",
       "      <th>nr_of_phases</th>\n",
       "      <th>unique_phases</th>\n",
       "    </tr>\n",
       "  </thead>\n",
       "  <tbody>\n",
       "    <tr>\n",
       "      <th>count</th>\n",
       "      <td>11564.000000</td>\n",
       "      <td>11564.000000</td>\n",
       "    </tr>\n",
       "    <tr>\n",
       "      <th>mean</th>\n",
       "      <td>6.222501</td>\n",
       "      <td>5.515911</td>\n",
       "    </tr>\n",
       "    <tr>\n",
       "      <th>std</th>\n",
       "      <td>3.285784</td>\n",
       "      <td>2.385456</td>\n",
       "    </tr>\n",
       "    <tr>\n",
       "      <th>min</th>\n",
       "      <td>1.000000</td>\n",
       "      <td>1.000000</td>\n",
       "    </tr>\n",
       "    <tr>\n",
       "      <th>25%</th>\n",
       "      <td>3.000000</td>\n",
       "      <td>3.000000</td>\n",
       "    </tr>\n",
       "    <tr>\n",
       "      <th>50%</th>\n",
       "      <td>6.000000</td>\n",
       "      <td>6.000000</td>\n",
       "    </tr>\n",
       "    <tr>\n",
       "      <th>75%</th>\n",
       "      <td>8.000000</td>\n",
       "      <td>8.000000</td>\n",
       "    </tr>\n",
       "    <tr>\n",
       "      <th>max</th>\n",
       "      <td>34.000000</td>\n",
       "      <td>9.000000</td>\n",
       "    </tr>\n",
       "  </tbody>\n",
       "</table>\n",
       "</div>"
      ],
      "text/plain": [
       "       nr_of_phases  unique_phases\n",
       "count  11564.000000   11564.000000\n",
       "mean       6.222501       5.515911\n",
       "std        3.285784       2.385456\n",
       "min        1.000000       1.000000\n",
       "25%        3.000000       3.000000\n",
       "50%        6.000000       6.000000\n",
       "75%        8.000000       8.000000\n",
       "max       34.000000       9.000000"
      ]
     },
     "execution_count": 12,
     "metadata": {},
     "output_type": "execute_result"
    }
   ],
   "source": [
    "df_workitem_agg.describe()"
   ]
  },
  {
   "cell_type": "code",
   "execution_count": 13,
   "metadata": {},
   "outputs": [
    {
     "data": {
      "text/plain": [
       "True     10522\n",
       "False     1042\n",
       "Name: was_closed, dtype: int64"
      ]
     },
     "execution_count": 13,
     "metadata": {},
     "output_type": "execute_result"
    }
   ],
   "source": [
    "df_workitem_agg.was_closed.value_counts()"
   ]
  },
  {
   "cell_type": "markdown",
   "metadata": {},
   "source": [
    "While the describe function is good for a first impression, a boxplot delivers even better insights.\n",
    "The top of the box shows the third quartile (75%), the bottom the first quartile (25%). The line is middle shows the median (50%). In general, circles can be considered as outliers."
   ]
  },
  {
   "cell_type": "code",
   "execution_count": 14,
   "metadata": {},
   "outputs": [
    {
     "data": {
      "text/plain": [
       "<matplotlib.axes._subplots.AxesSubplot at 0x1b983fdae10>"
      ]
     },
     "execution_count": 14,
     "metadata": {},
     "output_type": "execute_result"
    },
    {
     "data": {
      "image/png": "[encoded data removed]",
      "text/plain": [
       "<Figure size 432x288 with 1 Axes>"
      ]
     },
     "metadata": {
      "needs_background": "light"
     },
     "output_type": "display_data"
    }
   ],
   "source": [
    "df_workitem_agg.plot(kind='box', y='nr_of_phases', title='Number of phase changes')"
   ]
  },
  {
   "cell_type": "markdown",
   "metadata": {},
   "source": [
    "Histograms are another good way to illustrate distributions."
   ]
  },
  {
   "cell_type": "code",
   "execution_count": 15,
   "metadata": {},
   "outputs": [
    {
     "data": {
      "text/plain": [
       "Text(0, 0.5, 'Number of tickets')"
      ]
     },
     "execution_count": 15,
     "metadata": {},
     "output_type": "execute_result"
    },
    {
     "data": {
      "image/png": "[encoded data removed]",
      "text/plain": [
       "<Figure size 1080x360 with 1 Axes>"
      ]
     },
     "metadata": {
      "needs_background": "light"
     },
     "output_type": "display_data"
    }
   ],
   "source": [
    "df_workitem_agg.plot(kind='hist', y='nr_of_phases', bins=35, figsize=(15, 5), title='Number of phase changes')\n",
    "# Alternatively you can use the base plt functionality: plt.hist(df_workitem_agg['nr_of_phases'])\n",
    "plt.xlabel('Phases')\n",
    "plt.ylabel('Number of tickets')"
   ]
  },
  {
   "cell_type": "markdown",
   "metadata": {},
   "source": [
    "Many tickets are closed after only two phases changes. This is probably due to non-isses as we've seen in ticket *WI_005405* before. We can also see that less than a third of all tickets goes through all eight phases (not counting *start* and *clarify*). \n",
    "\n",
    "**Question: What could be the reason for this?**"
   ]
  },
  {
   "cell_type": "markdown",
   "metadata": {},
   "source": [
    "So far, we always considered all tickets. Let's take a look at only the open tickets."
   ]
  },
  {
   "cell_type": "code",
   "execution_count": 16,
   "metadata": {},
   "outputs": [
    {
     "data": {
      "text/plain": [
       "Text(0, 0.5, 'Number of tickets')"
      ]
     },
     "execution_count": 16,
     "metadata": {},
     "output_type": "execute_result"
    },
    {
     "data": {
      "image/png": "[encoded data removed]",
      "text/plain": [
       "<Figure size 1080x360 with 1 Axes>"
      ]
     },
     "metadata": {
      "needs_background": "light"
     },
     "output_type": "display_data"
    }
   ],
   "source": [
    "mask = ~df_workitem_agg.was_closed  # ~ negates a mask\n",
    "df_workitem_agg[mask].plot(kind='hist', y='nr_of_phases', bins=range(25), figsize=(15, 5), title='Number of phase changes')\n",
    "plt.xlabel('Phases')\n",
    "plt.ylabel('Number of tickets')"
   ]
  },
  {
   "cell_type": "markdown",
   "metadata": {},
   "source": [
    "The majority of open tickets is still in the first phase, i.e. they were created but never touched. \n",
    "Very few tickets already exceeded the default number of eight phases."
   ]
  },
  {
   "cell_type": "markdown",
   "metadata": {},
   "source": [
    "## Ticket durations\n",
    "Let's take a closer look at the total lead time of the different work items, i.e. how much time passes between the creation and closing of a ticket."
   ]
  },
  {
   "cell_type": "code",
   "execution_count": 17,
   "metadata": {
    "scrolled": true
   },
   "outputs": [
    {
     "data": {
      "text/html": [
       "<div>\n",
       "<style scoped>\n",
       "    .dataframe tbody tr th:only-of-type {\n",
       "        vertical-align: middle;\n",
       "    }\n",
       "\n",
       "    .dataframe tbody tr th {\n",
       "        vertical-align: top;\n",
       "    }\n",
       "\n",
       "    .dataframe thead th {\n",
       "        text-align: right;\n",
       "    }\n",
       "</style>\n",
       "<table border=\"1\" class=\"dataframe\">\n",
       "  <thead>\n",
       "    <tr style=\"text-align: right;\">\n",
       "      <th></th>\n",
       "      <th>work_item</th>\n",
       "      <th>timestamp_x</th>\n",
       "      <th>timestamp_y</th>\n",
       "      <th>duration</th>\n",
       "      <th>duration_in_days</th>\n",
       "    </tr>\n",
       "  </thead>\n",
       "  <tbody>\n",
       "    <tr>\n",
       "      <th>0</th>\n",
       "      <td>WI_000001</td>\n",
       "      <td>2015-01-02 14:39:14</td>\n",
       "      <td>2015-01-27 11:36:51</td>\n",
       "      <td>24 days 20:57:37</td>\n",
       "      <td>24.87</td>\n",
       "    </tr>\n",
       "    <tr>\n",
       "      <th>1</th>\n",
       "      <td>WI_000002</td>\n",
       "      <td>2015-01-02 15:04:20</td>\n",
       "      <td>2015-01-14 09:46:37</td>\n",
       "      <td>11 days 18:42:17</td>\n",
       "      <td>11.78</td>\n",
       "    </tr>\n",
       "    <tr>\n",
       "      <th>2</th>\n",
       "      <td>WI_000003</td>\n",
       "      <td>2015-01-02 15:28:22</td>\n",
       "      <td>2015-02-26 11:50:37</td>\n",
       "      <td>54 days 20:22:15</td>\n",
       "      <td>54.85</td>\n",
       "    </tr>\n",
       "    <tr>\n",
       "      <th>3</th>\n",
       "      <td>WI_000004</td>\n",
       "      <td>2015-01-02 15:33:54</td>\n",
       "      <td>2015-01-28 09:11:05</td>\n",
       "      <td>25 days 17:37:11</td>\n",
       "      <td>25.73</td>\n",
       "    </tr>\n",
       "    <tr>\n",
       "      <th>4</th>\n",
       "      <td>WI_000005</td>\n",
       "      <td>2015-01-02 16:32:11</td>\n",
       "      <td>2015-02-04 12:57:49</td>\n",
       "      <td>32 days 20:25:38</td>\n",
       "      <td>32.85</td>\n",
       "    </tr>\n",
       "  </tbody>\n",
       "</table>\n",
       "</div>"
      ],
      "text/plain": [
       "   work_item         timestamp_x         timestamp_y         duration  \\\n",
       "0  WI_000001 2015-01-02 14:39:14 2015-01-27 11:36:51 24 days 20:57:37   \n",
       "1  WI_000002 2015-01-02 15:04:20 2015-01-14 09:46:37 11 days 18:42:17   \n",
       "2  WI_000003 2015-01-02 15:28:22 2015-02-26 11:50:37 54 days 20:22:15   \n",
       "3  WI_000004 2015-01-02 15:33:54 2015-01-28 09:11:05 25 days 17:37:11   \n",
       "4  WI_000005 2015-01-02 16:32:11 2015-02-04 12:57:49 32 days 20:25:38   \n",
       "\n",
       "   duration_in_days  \n",
       "0             24.87  \n",
       "1             11.78  \n",
       "2             54.85  \n",
       "3             25.73  \n",
       "4             32.85  "
      ]
     },
     "execution_count": 17,
     "metadata": {},
     "output_type": "execute_result"
    }
   ],
   "source": [
    "relevant_columns = ['work_item', 'timestamp']\n",
    "start_times = df[df.from_phase == 'Start'][relevant_columns]\n",
    "end_times = df[df.to_phase == 'End'][relevant_columns]\n",
    "times = pd.merge(start_times, end_times, on='work_item', how='left')\n",
    "times['duration'] = times['timestamp_y'] - times['timestamp_x']\n",
    "times['duration_in_days'] = times['duration'].apply(lambda x: round(x.total_seconds() / (24*3600), 2))\n",
    "times.head()"
   ]
  },
  {
   "cell_type": "markdown",
   "metadata": {},
   "source": [
    "This table shows the start and end timestamp for each work_item.\n",
    "The duration is the delta of the start and close timestamps.\n",
    "Note that the duration includes working days as well as weekends and holidays."
   ]
  },
  {
   "cell_type": "code",
   "execution_count": 19,
   "metadata": {},
   "outputs": [
    {
     "data": {
      "text/plain": [
       "Text(0.5, 0, 'Duration in days')"
      ]
     },
     "execution_count": 19,
     "metadata": {},
     "output_type": "execute_result"
    },
    {
     "data": {
      "image/png": "[encoded data removed]",
      "text/plain": [
       "<Figure size 1080x360 with 1 Axes>"
      ]
     },
     "metadata": {
      "needs_background": "light"
     },
     "output_type": "display_data"
    }
   ],
   "source": [
    "finished_times = times[pd.notnull(times.duration)]\n",
    "finished_times.plot(kind='hist', y='duration_in_days', bins=100, figsize=(15, 5), title='Duration of tickets')\n",
    "plt.ylabel(\"Number of tickets\")\n",
    "plt.xlabel(\"Duration in days\")"
   ]
  },
  {
   "cell_type": "markdown",
   "metadata": {},
   "source": [
    "We see a typical power law distribution. Apart from this we can't really get much info out of the graph. Let's change the number of bins and the bin size to get a closer look. "
   ]
  },
  {
   "cell_type": "code",
   "execution_count": 20,
   "metadata": {},
   "outputs": [
    {
     "data": {
      "text/plain": [
       "Text(0.5, 0, 'Duration in days')"
      ]
     },
     "execution_count": 20,
     "metadata": {},
     "output_type": "execute_result"
    },
    {
     "data": {
      "image/png": "[encoded data removed]",
      "text/plain": [
       "<Figure size 1080x360 with 1 Axes>"
      ]
     },
     "metadata": {
      "needs_background": "light"
     },
     "output_type": "display_data"
    }
   ],
   "source": [
    "finished_times.plot(kind='hist', y='duration_in_days', bins=range(50), figsize=(15, 5), title='Duration of tickets')\n",
    "plt.ylabel(\"Number of tickets\")\n",
    "plt.xlabel(\"Duration in days\")"
   ]
  },
  {
   "cell_type": "markdown",
   "metadata": {},
   "source": [
    "Now this looks a lot more interesting. We can see a some periodicity. Probably due to the week cycle."
   ]
  },
  {
   "cell_type": "markdown",
   "metadata": {},
   "source": [
    "## Open and closed tickets over time\n",
    "As a last exercise, we analyse the number of open and closed tickets over time."
   ]
  },
  {
   "cell_type": "code",
   "execution_count": 21,
   "metadata": {},
   "outputs": [],
   "source": [
    "df.sort_values(by='timestamp', inplace=True)\n",
    "current_date = df.loc[0].timestamp.date()\n",
    "open_tickets_total = 0\n",
    "closed_tickets_total = 0\n",
    "open_tickets_per_day = 0\n",
    "closed_tickets_per_day = 0\n",
    "results = []\n",
    "\n",
    "# Loop once through the data and keep track of the number of open and closed tickets\n",
    "for _, row in df.iterrows():\n",
    "    if row.timestamp.date() > current_date:\n",
    "        results.append([current_date, open_tickets_total, closed_tickets_total, open_tickets_per_day, closed_tickets_per_day])\n",
    "        current_date = row.timestamp.date()\n",
    "        open_tickets_per_day = 0\n",
    "        closed_tickets_per_day = 0        \n",
    "    if row.from_phase == 'Start':\n",
    "        open_tickets_total += 1\n",
    "        open_tickets_per_day += 1\n",
    "    if row.to_phase == 'End':\n",
    "        closed_tickets_total += 1\n",
    "        closed_tickets_per_day += 1 \n",
    "results.append([current_date, open_tickets_total, closed_tickets_total, open_tickets_per_day, closed_tickets_per_day])"
   ]
  },
  {
   "cell_type": "markdown",
   "metadata": {},
   "source": [
    "For easier manipulation and analysis, we convert our results into a DataFrame."
   ]
  },
  {
   "cell_type": "code",
   "execution_count": 23,
   "metadata": {},
   "outputs": [
    {
     "data": {
      "text/html": [
       "<div>\n",
       "<style scoped>\n",
       "    .dataframe tbody tr th:only-of-type {\n",
       "        vertical-align: middle;\n",
       "    }\n",
       "\n",
       "    .dataframe tbody tr th {\n",
       "        vertical-align: top;\n",
       "    }\n",
       "\n",
       "    .dataframe thead th {\n",
       "        text-align: right;\n",
       "    }\n",
       "</style>\n",
       "<table border=\"1\" class=\"dataframe\">\n",
       "  <thead>\n",
       "    <tr style=\"text-align: right;\">\n",
       "      <th></th>\n",
       "      <th>date</th>\n",
       "      <th>open_tickets_total</th>\n",
       "      <th>closed_tickets_total</th>\n",
       "      <th>open_tickets_per_day</th>\n",
       "      <th>closed_tickets_per_day</th>\n",
       "      <th>wip_tickets_total</th>\n",
       "    </tr>\n",
       "  </thead>\n",
       "  <tbody>\n",
       "    <tr>\n",
       "      <th>0</th>\n",
       "      <td>2015-01-02</td>\n",
       "      <td>6</td>\n",
       "      <td>0</td>\n",
       "      <td>6</td>\n",
       "      <td>0</td>\n",
       "      <td>6</td>\n",
       "    </tr>\n",
       "    <tr>\n",
       "      <th>1</th>\n",
       "      <td>2015-01-03</td>\n",
       "      <td>7</td>\n",
       "      <td>0</td>\n",
       "      <td>1</td>\n",
       "      <td>0</td>\n",
       "      <td>7</td>\n",
       "    </tr>\n",
       "    <tr>\n",
       "      <th>2</th>\n",
       "      <td>2015-01-04</td>\n",
       "      <td>9</td>\n",
       "      <td>0</td>\n",
       "      <td>2</td>\n",
       "      <td>0</td>\n",
       "      <td>9</td>\n",
       "    </tr>\n",
       "    <tr>\n",
       "      <th>3</th>\n",
       "      <td>2015-01-05</td>\n",
       "      <td>31</td>\n",
       "      <td>0</td>\n",
       "      <td>22</td>\n",
       "      <td>0</td>\n",
       "      <td>31</td>\n",
       "    </tr>\n",
       "    <tr>\n",
       "      <th>4</th>\n",
       "      <td>2015-01-06</td>\n",
       "      <td>48</td>\n",
       "      <td>7</td>\n",
       "      <td>17</td>\n",
       "      <td>7</td>\n",
       "      <td>41</td>\n",
       "    </tr>\n",
       "  </tbody>\n",
       "</table>\n",
       "</div>"
      ],
      "text/plain": [
       "         date  open_tickets_total  closed_tickets_total  open_tickets_per_day  \\\n",
       "0  2015-01-02                   6                     0                     6   \n",
       "1  2015-01-03                   7                     0                     1   \n",
       "2  2015-01-04                   9                     0                     2   \n",
       "3  2015-01-05                  31                     0                    22   \n",
       "4  2015-01-06                  48                     7                    17   \n",
       "\n",
       "   closed_tickets_per_day  wip_tickets_total  \n",
       "0                       0                  6  \n",
       "1                       0                  7  \n",
       "2                       0                  9  \n",
       "3                       0                 31  \n",
       "4                       7                 41  "
      ]
     },
     "execution_count": 23,
     "metadata": {},
     "output_type": "execute_result"
    }
   ],
   "source": [
    "tickets_df = pd.DataFrame(results)\n",
    "tickets_df.columns = ['date', 'open_tickets_total', 'closed_tickets_total', 'open_tickets_per_day', 'closed_tickets_per_day']\n",
    "tickets_df['wip_tickets_total'] = tickets_df['open_tickets_total'] - tickets_df['closed_tickets_total']\n",
    "tickets_df.head()"
   ]
  },
  {
   "cell_type": "markdown",
   "metadata": {},
   "source": [
    "Loops are often easier to understand, but they are also horribly inefficient. The code below computes the same numbers with only build-in functionalities. \n",
    "\n",
    "**Exercise:** Compare the runtime of both approaches"
   ]
  },
  {
   "cell_type": "code",
   "execution_count": 24,
   "metadata": {},
   "outputs": [],
   "source": [
    "resample_period = 'D'  # We’re going to resample the dataframe per day\n",
    "\n",
    "# Calculate open tickets per day\n",
    "open_per_day = times.resample(resample_period, on='timestamp_x').work_item.count().rename('open_tickets_per_day')\n",
    "\n",
    "# Calculate closed tickets per day\n",
    "is_closed = times.timestamp_y.notnull()  # tickets not closed yet have timestamp_y == NaT, let’s use this fact to create a quick filer\n",
    "closed_per_day = times.loc[is_closed].resample(resample_period, on='timestamp_y').work_item.count().rename('closed_tickets_per_day')\n",
    "\n",
    "# Let’s  concatenate the two dataframes and do some clean-up along the way\n",
    "tickets_df = (pd.concat([open_per_day, closed_per_day], axis=1) # Join the two dataframes\n",
    "                .fillna(0)                                      # Replace NaNs by 0 for those days when no tickets are opened or closed\n",
    "                .astype(int)                                    # While we're at it, all counts are integers\n",
    "                .reset_index()                                  # timestamp_x is used as index, move it back to a column\n",
    "                .rename(columns={'timestamp_x': 'date'})        # and rename it to ‘date’\n",
    "             )\n",
    "\n",
    "tickets_df['open_tickets_total'] = tickets_df.open_tickets_per_day.cumsum()\n",
    "tickets_df['closed_tickets_total'] = tickets_df.closed_tickets_per_day.cumsum()\n",
    "tickets_df['wip_tickets_total'] = tickets_df.open_tickets_total - tickets_df.closed_tickets_total"
   ]
  },
  {
   "cell_type": "markdown",
   "metadata": {},
   "source": [
    "The DataFrame class comes with an easy plotting interface:"
   ]
  },
  {
   "cell_type": "code",
   "execution_count": 25,
   "metadata": {},
   "outputs": [
    {
     "data": {
      "text/plain": [
       "<matplotlib.axes._subplots.AxesSubplot at 0x1b9843500f0>"
      ]
     },
     "execution_count": 25,
     "metadata": {},
     "output_type": "execute_result"
    },
    {
     "data": {
      "image/png": "[encoded data removed]",
      "text/plain": [
       "<Figure size 1080x360 with 1 Axes>"
      ]
     },
     "metadata": {
      "needs_background": "light"
     },
     "output_type": "display_data"
    }
   ],
   "source": [
    "tickets_df.plot(x='date', y=['open_tickets_total', 'closed_tickets_total', 'wip_tickets_total'] , figsize=(15, 5))"
   ]
  },
  {
   "cell_type": "markdown",
   "metadata": {},
   "source": [
    "The gap between the open and closed tickets grows over time. This will make predictions additionally hard. We will need to figure out which tickets will get worked on and which don't."
   ]
  },
  {
   "cell_type": "code",
   "execution_count": 26,
   "metadata": {},
   "outputs": [
    {
     "data": {
      "text/plain": [
       "<matplotlib.axes._subplots.AxesSubplot at 0x1b984e71a90>"
      ]
     },
     "execution_count": 26,
     "metadata": {},
     "output_type": "execute_result"
    },
    {
     "data": {
      "image/png": "[encoded data removed]",
      "text/plain": [
       "<Figure size 1080x360 with 1 Axes>"
      ]
     },
     "metadata": {
      "needs_background": "light"
     },
     "output_type": "display_data"
    }
   ],
   "source": [
    "tickets_df.plot(x='date', y=['wip_tickets_total'] , figsize=(15, 5))"
   ]
  },
  {
   "cell_type": "markdown",
   "metadata": {},
   "source": [
    "So far, we looked at the totals. What about the day-to-day numbers."
   ]
  },
  {
   "cell_type": "code",
   "execution_count": 27,
   "metadata": {},
   "outputs": [
    {
     "data": {
      "text/plain": [
       "array([<matplotlib.axes._subplots.AxesSubplot object at 0x000001B986D8DF60>,\n",
       "       <matplotlib.axes._subplots.AxesSubplot object at 0x000001B986E1A160>],\n",
       "      dtype=object)"
      ]
     },
     "execution_count": 27,
     "metadata": {},
     "output_type": "execute_result"
    },
    {
     "data": {
      "image/png": "[encoded data removed]",
      "text/plain": [
       "<Figure size 1080x720 with 2 Axes>"
      ]
     },
     "metadata": {
      "needs_background": "light"
     },
     "output_type": "display_data"
    }
   ],
   "source": [
    "tickets_df.plot(x='date', y=['open_tickets_per_day', 'closed_tickets_per_day'] , \n",
    "                figsize=(15, 10), subplots=True, alpha=0.5, sharey=True)"
   ]
  },
  {
   "cell_type": "markdown",
   "metadata": {},
   "source": [
    "There seems to be a slow increase in the number of tickets over time. We should also talk to business about the spikes. If e.g. the spikes in the number of closed tickets corresponds to the end of development sprints, then this could be an important feature for our prediction model."
   ]
  },
  {
   "cell_type": "markdown",
   "metadata": {},
   "source": [
    "## Conclusion\n",
    "This concludes the initial EDA and our first tutorial! \n",
    "By now you should know how to load data into python and how to do a basic analysis.\n",
    "\n",
    "In the next tutorial, we will build a first lead-time prediction model and show you how to submit results to the official leaderboard."
   ]
  }
 ],
 "metadata": {
  "kernelspec": {
   "display_name": "Python 3",
   "language": "python",
   "name": "python3"
  },
  "language_info": {
   "codemirror_mode": {
    "name": "ipython",
    "version": 3
   },
   "file_extension": ".py",
   "mimetype": "text/x-python",
   "name": "python",
   "nbconvert_exporter": "python",
   "pygments_lexer": "ipython3",
   "version": "3.7.1"
  }
 },
 "nbformat": 4,
 "nbformat_minor": 1
}
