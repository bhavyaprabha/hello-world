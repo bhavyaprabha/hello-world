{
 "cells": [
  {
   "cell_type": "markdown",
   "metadata": {},
   "source": [
    "# Tutorial 2: Building a first model\n",
    "\n",
    "After the EDA of the last session we are now ready to build a first model. In this tutorial, we'll cover\n",
    "\n",
    "- Data preparation and feature engineering (One-Hot-Encoding)\n",
    "- Training a first model (Train/Test/Validation split, KNN)\n",
    "- Model evaluation (RMSLE)\n",
    "- Submitting model predictions to the leaderboard\n",
    "\n",
    "As usual, we start by importing all relevant libraries."
   ]
  },
  {
   "cell_type": "code",
   "execution_count": 1,
   "metadata": {},
   "outputs": [],
   "source": [
    "# Importing the required libraries and packages\n",
    "import datetime as dt\n",
    "import matplotlib.pyplot as plt\n",
    "import pandas as pd\n",
    "import sys\n",
    "\n",
    "from sklearn.neighbors import KNeighborsRegressor\n",
    "from sklearn.preprocessing import OneHotEncoder\n",
    "\n",
    "%matplotlib inline\n",
    "plt.style.use('fivethirtyeight')"
   ]
  },
  {
   "cell_type": "markdown",
   "metadata": {},
   "source": [
    "## Working with local imports\n",
    "\n",
    "In this notebook we will use self-written function. To make this work we need some additional setup.\n",
    "The pwd command shows you the current working directory. All paths and imports need to be relative to this."
   ]
  },
  {
   "cell_type": "code",
   "execution_count": 2,
   "metadata": {},
   "outputs": [
    {
     "data": {
      "text/plain": [
       "'C:\\\\Users\\\\bhavrang\\\\Documents\\\\Analytics vidhya\\\\GlobalDataChallenge-II\\\\global_data_science_challenge_2_public-master\\\\notebooks'"
      ]
     },
     "execution_count": 2,
     "metadata": {},
     "output_type": "execute_result"
    }
   ],
   "source": [
    "%pwd"
   ]
  },
  {
   "cell_type": "markdown",
   "metadata": {},
   "source": [
    "We want to import function that are located in the *src* directory of the main folder. To do this, we need to let python know that it should look there for imports. This is done by adding the main folder to the project path."
   ]
  },
  {
   "cell_type": "code",
   "execution_count": 3,
   "metadata": {},
   "outputs": [],
   "source": [
    "sys.path.append('..')  # '..' is the shortcut for the parent directory of the current working directory"
   ]
  },
  {
   "cell_type": "markdown",
   "metadata": {},
   "source": [
    "With the extended path we can now use our local imports. These will be introduced later."
   ]
  },
  {
   "cell_type": "code",
   "execution_count": 4,
   "metadata": {},
   "outputs": [],
   "source": [
    "from src.data_preparation import compute_work_item_times, split_times\n",
    "from src.evaluate import rmsle"
   ]
  },
  {
   "cell_type": "markdown",
   "metadata": {},
   "source": [
    "## Loading the data\n",
    "We start by loading and preparing the data as introduced in tutorial 1."
   ]
  },
  {
   "cell_type": "code",
   "execution_count": 5,
   "metadata": {},
   "outputs": [
    {
     "data": {
      "text/html": [
       "<div>\n",
       "<style scoped>\n",
       "    .dataframe tbody tr th:only-of-type {\n",
       "        vertical-align: middle;\n",
       "    }\n",
       "\n",
       "    .dataframe tbody tr th {\n",
       "        vertical-align: top;\n",
       "    }\n",
       "\n",
       "    .dataframe thead th {\n",
       "        text-align: right;\n",
       "    }\n",
       "</style>\n",
       "<table border=\"1\" class=\"dataframe\">\n",
       "  <thead>\n",
       "    <tr style=\"text-align: right;\">\n",
       "      <th></th>\n",
       "      <th>timestamp</th>\n",
       "      <th>work_item</th>\n",
       "      <th>work_type</th>\n",
       "      <th>work_priority</th>\n",
       "      <th>domain</th>\n",
       "      <th>platform</th>\n",
       "      <th>components</th>\n",
       "      <th>from_phase</th>\n",
       "      <th>to_phase</th>\n",
       "      <th>from_resource</th>\n",
       "      <th>to_resource</th>\n",
       "    </tr>\n",
       "  </thead>\n",
       "  <tbody>\n",
       "    <tr>\n",
       "      <th>0</th>\n",
       "      <td>2015-01-02 14:39:14</td>\n",
       "      <td>WI_000001</td>\n",
       "      <td>WT_00001</td>\n",
       "      <td>WP_00003</td>\n",
       "      <td>BD_00001</td>\n",
       "      <td>PL_00001</td>\n",
       "      <td>NaN</td>\n",
       "      <td>Start</td>\n",
       "      <td>Analyze</td>\n",
       "      <td>NaN</td>\n",
       "      <td>ER_00043</td>\n",
       "    </tr>\n",
       "    <tr>\n",
       "      <th>1</th>\n",
       "      <td>2015-01-02 15:04:20</td>\n",
       "      <td>WI_000002</td>\n",
       "      <td>WT_00002</td>\n",
       "      <td>WP_00004</td>\n",
       "      <td>BD_00002</td>\n",
       "      <td>PL_00002</td>\n",
       "      <td>CO_00037/CO_00071</td>\n",
       "      <td>Start</td>\n",
       "      <td>Analyze</td>\n",
       "      <td>NaN</td>\n",
       "      <td>ER_00225</td>\n",
       "    </tr>\n",
       "    <tr>\n",
       "      <th>2</th>\n",
       "      <td>2015-01-02 15:28:22</td>\n",
       "      <td>WI_000003</td>\n",
       "      <td>WT_00002</td>\n",
       "      <td>WP_00004</td>\n",
       "      <td>BD_00002</td>\n",
       "      <td>PL_00002</td>\n",
       "      <td>CO_00037/CO_00071</td>\n",
       "      <td>Start</td>\n",
       "      <td>Analyze</td>\n",
       "      <td>NaN</td>\n",
       "      <td>ER_00225</td>\n",
       "    </tr>\n",
       "    <tr>\n",
       "      <th>3</th>\n",
       "      <td>2015-01-02 15:33:54</td>\n",
       "      <td>WI_000004</td>\n",
       "      <td>WT_00002</td>\n",
       "      <td>WP_00004</td>\n",
       "      <td>BD_00002</td>\n",
       "      <td>PL_00002</td>\n",
       "      <td>CO_00037/CO_00071</td>\n",
       "      <td>Start</td>\n",
       "      <td>Analyze</td>\n",
       "      <td>NaN</td>\n",
       "      <td>ER_00225</td>\n",
       "    </tr>\n",
       "    <tr>\n",
       "      <th>4</th>\n",
       "      <td>2015-01-02 16:32:11</td>\n",
       "      <td>WI_000005</td>\n",
       "      <td>WT_00002</td>\n",
       "      <td>WP_00003</td>\n",
       "      <td>BD_00003</td>\n",
       "      <td>PL_00003</td>\n",
       "      <td>CO_00113</td>\n",
       "      <td>Start</td>\n",
       "      <td>Analyze</td>\n",
       "      <td>NaN</td>\n",
       "      <td>ER_00206</td>\n",
       "    </tr>\n",
       "  </tbody>\n",
       "</table>\n",
       "</div>"
      ],
      "text/plain": [
       "            timestamp  work_item work_type work_priority    domain  platform  \\\n",
       "0 2015-01-02 14:39:14  WI_000001  WT_00001      WP_00003  BD_00001  PL_00001   \n",
       "1 2015-01-02 15:04:20  WI_000002  WT_00002      WP_00004  BD_00002  PL_00002   \n",
       "2 2015-01-02 15:28:22  WI_000003  WT_00002      WP_00004  BD_00002  PL_00002   \n",
       "3 2015-01-02 15:33:54  WI_000004  WT_00002      WP_00004  BD_00002  PL_00002   \n",
       "4 2015-01-02 16:32:11  WI_000005  WT_00002      WP_00003  BD_00003  PL_00003   \n",
       "\n",
       "          components from_phase to_phase from_resource to_resource  \n",
       "0                NaN      Start  Analyze           NaN    ER_00043  \n",
       "1  CO_00037/CO_00071      Start  Analyze           NaN    ER_00225  \n",
       "2  CO_00037/CO_00071      Start  Analyze           NaN    ER_00225  \n",
       "3  CO_00037/CO_00071      Start  Analyze           NaN    ER_00225  \n",
       "4           CO_00113      Start  Analyze           NaN    ER_00206  "
      ]
     },
     "execution_count": 5,
     "metadata": {},
     "output_type": "execute_result"
    }
   ],
   "source": [
    "file_path='../data/gdsc2_public.csv'\n",
    "df = pd.read_csv(file_path, sep=';', parse_dates=['timestamp'])\n",
    "df.from_phase.fillna('Start', inplace=True)  \n",
    "df.to_phase.fillna('End', inplace=True)\n",
    "df.head()"
   ]
  },
  {
   "cell_type": "markdown",
   "metadata": {},
   "source": [
    "In tutorial 1, we computed start time, end time and duration for each work item. The function *compute_work_item_times* does the same.\n",
    "\n",
    "In general, it is a good idea to refactor more complex functions into separate Python modules. This makes the notebook easier to read and allows us to use best practices from software development (e.g. unit tests). You can see the source code in the file *src/data_preparation.py*."
   ]
  },
  {
   "cell_type": "code",
   "execution_count": 6,
   "metadata": {},
   "outputs": [
    {
     "data": {
      "text/html": [
       "<div>\n",
       "<style scoped>\n",
       "    .dataframe tbody tr th:only-of-type {\n",
       "        vertical-align: middle;\n",
       "    }\n",
       "\n",
       "    .dataframe tbody tr th {\n",
       "        vertical-align: top;\n",
       "    }\n",
       "\n",
       "    .dataframe thead th {\n",
       "        text-align: right;\n",
       "    }\n",
       "</style>\n",
       "<table border=\"1\" class=\"dataframe\">\n",
       "  <thead>\n",
       "    <tr style=\"text-align: right;\">\n",
       "      <th></th>\n",
       "      <th>work_item</th>\n",
       "      <th>start</th>\n",
       "      <th>end</th>\n",
       "      <th>duration</th>\n",
       "      <th>duration_in_days</th>\n",
       "    </tr>\n",
       "  </thead>\n",
       "  <tbody>\n",
       "    <tr>\n",
       "      <th>0</th>\n",
       "      <td>WI_000001</td>\n",
       "      <td>2015-01-02 14:39:14</td>\n",
       "      <td>2015-01-27 11:36:51</td>\n",
       "      <td>24 days 20:57:37</td>\n",
       "      <td>24.87</td>\n",
       "    </tr>\n",
       "    <tr>\n",
       "      <th>1</th>\n",
       "      <td>WI_000002</td>\n",
       "      <td>2015-01-02 15:04:20</td>\n",
       "      <td>2015-01-14 09:46:37</td>\n",
       "      <td>11 days 18:42:17</td>\n",
       "      <td>11.78</td>\n",
       "    </tr>\n",
       "    <tr>\n",
       "      <th>2</th>\n",
       "      <td>WI_000003</td>\n",
       "      <td>2015-01-02 15:28:22</td>\n",
       "      <td>2015-02-26 11:50:37</td>\n",
       "      <td>54 days 20:22:15</td>\n",
       "      <td>54.85</td>\n",
       "    </tr>\n",
       "    <tr>\n",
       "      <th>3</th>\n",
       "      <td>WI_000004</td>\n",
       "      <td>2015-01-02 15:33:54</td>\n",
       "      <td>2015-01-28 09:11:05</td>\n",
       "      <td>25 days 17:37:11</td>\n",
       "      <td>25.73</td>\n",
       "    </tr>\n",
       "    <tr>\n",
       "      <th>4</th>\n",
       "      <td>WI_000005</td>\n",
       "      <td>2015-01-02 16:32:11</td>\n",
       "      <td>2015-02-04 12:57:49</td>\n",
       "      <td>32 days 20:25:38</td>\n",
       "      <td>32.85</td>\n",
       "    </tr>\n",
       "  </tbody>\n",
       "</table>\n",
       "</div>"
      ],
      "text/plain": [
       "   work_item               start                 end         duration  \\\n",
       "0  WI_000001 2015-01-02 14:39:14 2015-01-27 11:36:51 24 days 20:57:37   \n",
       "1  WI_000002 2015-01-02 15:04:20 2015-01-14 09:46:37 11 days 18:42:17   \n",
       "2  WI_000003 2015-01-02 15:28:22 2015-02-26 11:50:37 54 days 20:22:15   \n",
       "3  WI_000004 2015-01-02 15:33:54 2015-01-28 09:11:05 25 days 17:37:11   \n",
       "4  WI_000005 2015-01-02 16:32:11 2015-02-04 12:57:49 32 days 20:25:38   \n",
       "\n",
       "   duration_in_days  \n",
       "0             24.87  \n",
       "1             11.78  \n",
       "2             54.85  \n",
       "3             25.73  \n",
       "4             32.85  "
      ]
     },
     "execution_count": 6,
     "metadata": {},
     "output_type": "execute_result"
    }
   ],
   "source": [
    "times = compute_work_item_times(df)\n",
    "times.head()"
   ]
  },
  {
   "cell_type": "markdown",
   "metadata": {},
   "source": [
    "## Training data, test data and final predictions\n",
    "In order to do any modelling we have to define on which data our model can train on. It is a best practice to have a separate data set that is used only for evaluation. Finally, we also have to define the work items for which we have to predict the lead times for the competition.\n",
    "\n",
    "We start by defining the open and closed work items.\n"
   ]
  },
  {
   "cell_type": "code",
   "execution_count": 7,
   "metadata": {},
   "outputs": [
    {
     "data": {
      "text/html": [
       "<div>\n",
       "<style scoped>\n",
       "    .dataframe tbody tr th:only-of-type {\n",
       "        vertical-align: middle;\n",
       "    }\n",
       "\n",
       "    .dataframe tbody tr th {\n",
       "        vertical-align: top;\n",
       "    }\n",
       "\n",
       "    .dataframe thead th {\n",
       "        text-align: right;\n",
       "    }\n",
       "</style>\n",
       "<table border=\"1\" class=\"dataframe\">\n",
       "  <thead>\n",
       "    <tr style=\"text-align: right;\">\n",
       "      <th></th>\n",
       "      <th>work_item</th>\n",
       "      <th>start</th>\n",
       "      <th>end</th>\n",
       "      <th>duration</th>\n",
       "      <th>duration_in_days</th>\n",
       "    </tr>\n",
       "  </thead>\n",
       "  <tbody>\n",
       "    <tr>\n",
       "      <th>0</th>\n",
       "      <td>WI_000001</td>\n",
       "      <td>2015-01-02 14:39:14</td>\n",
       "      <td>2015-01-27 11:36:51</td>\n",
       "      <td>24 days 20:57:37</td>\n",
       "      <td>24.87</td>\n",
       "    </tr>\n",
       "    <tr>\n",
       "      <th>1</th>\n",
       "      <td>WI_000002</td>\n",
       "      <td>2015-01-02 15:04:20</td>\n",
       "      <td>2015-01-14 09:46:37</td>\n",
       "      <td>11 days 18:42:17</td>\n",
       "      <td>11.78</td>\n",
       "    </tr>\n",
       "  </tbody>\n",
       "</table>\n",
       "</div>"
      ],
      "text/plain": [
       "   work_item               start                 end         duration  \\\n",
       "0  WI_000001 2015-01-02 14:39:14 2015-01-27 11:36:51 24 days 20:57:37   \n",
       "1  WI_000002 2015-01-02 15:04:20 2015-01-14 09:46:37 11 days 18:42:17   \n",
       "\n",
       "   duration_in_days  \n",
       "0             24.87  \n",
       "1             11.78  "
      ]
     },
     "execution_count": 7,
     "metadata": {},
     "output_type": "execute_result"
    }
   ],
   "source": [
    "is_open = pd.isnull(times.duration)\n",
    "times_open = times[is_open]  \n",
    "times_closed = times[~is_open]  # The ~ operator negates a boolean mask\n",
    "times_closed.head(2)"
   ]
  },
  {
   "cell_type": "markdown",
   "metadata": {},
   "source": [
    "- times_open contains all the work items that are still in progress, i.e. the item for which we will have to create a prediction\n",
    "- times_closed contains all work items that are finished. We can use these for training and evaluating our model\n",
    "\n",
    "The next step is to split the closed items into two separate sets. We will use one for training and the other for testing.\n",
    "In our application, we will always have to train our algorithm on the tickets before a certain date, and predict the lead time for all the tickets that were open on that date. To stay as close as possible to our actual business problem, we mimick this situation in our training setup.\n",
    "\n",
    "We start by defining a separation date $d$. \n",
    "- Tickets that were closed before $d$ will be used for training. \n",
    "- Tickets that were closed after $d$ will be used for testing."
   ]
  },
  {
   "cell_type": "code",
   "execution_count": 8,
   "metadata": {},
   "outputs": [
    {
     "name": "stdout",
     "output_type": "stream",
     "text": [
      "2015-01-06 09:18:30\n",
      "2018-03-30 17:15:03\n"
     ]
    }
   ],
   "source": [
    "print(min(times_closed.end))\n",
    "print(max(times_closed.end))"
   ]
  },
  {
   "cell_type": "markdown",
   "metadata": {},
   "source": [
    "Lets take the first of January 2018 as the separation date. With this we can now define the train and test data."
   ]
  },
  {
   "cell_type": "code",
   "execution_count": 9,
   "metadata": {},
   "outputs": [
    {
     "data": {
      "text/html": [
       "<div>\n",
       "<style scoped>\n",
       "    .dataframe tbody tr th:only-of-type {\n",
       "        vertical-align: middle;\n",
       "    }\n",
       "\n",
       "    .dataframe tbody tr th {\n",
       "        vertical-align: top;\n",
       "    }\n",
       "\n",
       "    .dataframe thead th {\n",
       "        text-align: right;\n",
       "    }\n",
       "</style>\n",
       "<table border=\"1\" class=\"dataframe\">\n",
       "  <thead>\n",
       "    <tr style=\"text-align: right;\">\n",
       "      <th></th>\n",
       "      <th>work_item</th>\n",
       "      <th>start</th>\n",
       "      <th>end</th>\n",
       "      <th>duration</th>\n",
       "      <th>duration_in_days</th>\n",
       "    </tr>\n",
       "  </thead>\n",
       "  <tbody>\n",
       "    <tr>\n",
       "      <th>196</th>\n",
       "      <td>WI_000197</td>\n",
       "      <td>2015-01-23 15:45:50</td>\n",
       "      <td>2018-02-09 13:54:39</td>\n",
       "      <td>1112 days 22:08:49</td>\n",
       "      <td>1112.92</td>\n",
       "    </tr>\n",
       "    <tr>\n",
       "      <th>435</th>\n",
       "      <td>WI_000436</td>\n",
       "      <td>2015-02-18 13:11:50</td>\n",
       "      <td>2018-02-01 16:53:59</td>\n",
       "      <td>1079 days 03:42:09</td>\n",
       "      <td>1079.15</td>\n",
       "    </tr>\n",
       "    <tr>\n",
       "      <th>518</th>\n",
       "      <td>WI_000519</td>\n",
       "      <td>2015-03-02 15:32:10</td>\n",
       "      <td>2018-01-09 11:37:11</td>\n",
       "      <td>1043 days 20:05:01</td>\n",
       "      <td>1043.84</td>\n",
       "    </tr>\n",
       "    <tr>\n",
       "      <th>910</th>\n",
       "      <td>WI_000911</td>\n",
       "      <td>2015-04-14 17:36:26</td>\n",
       "      <td>2018-02-12 07:21:15</td>\n",
       "      <td>1034 days 13:44:49</td>\n",
       "      <td>1034.57</td>\n",
       "    </tr>\n",
       "    <tr>\n",
       "      <th>1121</th>\n",
       "      <td>WI_001122</td>\n",
       "      <td>2015-05-19 10:23:47</td>\n",
       "      <td>2018-03-16 14:47:51</td>\n",
       "      <td>1032 days 04:24:04</td>\n",
       "      <td>1032.18</td>\n",
       "    </tr>\n",
       "  </tbody>\n",
       "</table>\n",
       "</div>"
      ],
      "text/plain": [
       "      work_item               start                 end           duration  \\\n",
       "196   WI_000197 2015-01-23 15:45:50 2018-02-09 13:54:39 1112 days 22:08:49   \n",
       "435   WI_000436 2015-02-18 13:11:50 2018-02-01 16:53:59 1079 days 03:42:09   \n",
       "518   WI_000519 2015-03-02 15:32:10 2018-01-09 11:37:11 1043 days 20:05:01   \n",
       "910   WI_000911 2015-04-14 17:36:26 2018-02-12 07:21:15 1034 days 13:44:49   \n",
       "1121  WI_001122 2015-05-19 10:23:47 2018-03-16 14:47:51 1032 days 04:24:04   \n",
       "\n",
       "      duration_in_days  \n",
       "196            1112.92  \n",
       "435            1079.15  \n",
       "518            1043.84  \n",
       "910            1034.57  \n",
       "1121           1032.18  "
      ]
     },
     "execution_count": 9,
     "metadata": {},
     "output_type": "execute_result"
    }
   ],
   "source": [
    "sep_date_str = '01.01.2018'\n",
    "sep_date = dt.datetime.strptime(sep_date_str, '%d.%m.%Y')\n",
    "train_times_tmp = times_closed[times_closed.end <= sep_date]\n",
    "test_times_tmp = times_closed[(times_closed.end > sep_date) & (times_closed.start <= sep_date)]\n",
    "test_times_tmp.head()"
   ]
  },
  {
   "cell_type": "markdown",
   "metadata": {},
   "source": [
    "For simplicity, we added a function that takes a separation date and returns the train, test dataset as well as the open work items. The source code is also part of the *src/data_preparation.py* module."
   ]
  },
  {
   "cell_type": "code",
   "execution_count": 10,
   "metadata": {},
   "outputs": [
    {
     "name": "stdout",
     "output_type": "stream",
     "text": [
      "9290\n",
      "548\n",
      "10522\n",
      "1042\n"
     ]
    },
    {
     "data": {
      "text/html": [
       "<div>\n",
       "<style scoped>\n",
       "    .dataframe tbody tr th:only-of-type {\n",
       "        vertical-align: middle;\n",
       "    }\n",
       "\n",
       "    .dataframe tbody tr th {\n",
       "        vertical-align: top;\n",
       "    }\n",
       "\n",
       "    .dataframe thead th {\n",
       "        text-align: right;\n",
       "    }\n",
       "</style>\n",
       "<table border=\"1\" class=\"dataframe\">\n",
       "  <thead>\n",
       "    <tr style=\"text-align: right;\">\n",
       "      <th></th>\n",
       "      <th>work_item</th>\n",
       "      <th>start</th>\n",
       "      <th>end</th>\n",
       "      <th>duration</th>\n",
       "      <th>duration_in_days</th>\n",
       "    </tr>\n",
       "  </thead>\n",
       "  <tbody>\n",
       "    <tr>\n",
       "      <th>196</th>\n",
       "      <td>WI_000197</td>\n",
       "      <td>2015-01-23 15:45:50</td>\n",
       "      <td>2018-02-09 13:54:39</td>\n",
       "      <td>1112 days 22:08:49</td>\n",
       "      <td>1112.92</td>\n",
       "    </tr>\n",
       "    <tr>\n",
       "      <th>435</th>\n",
       "      <td>WI_000436</td>\n",
       "      <td>2015-02-18 13:11:50</td>\n",
       "      <td>2018-02-01 16:53:59</td>\n",
       "      <td>1079 days 03:42:09</td>\n",
       "      <td>1079.15</td>\n",
       "    </tr>\n",
       "    <tr>\n",
       "      <th>518</th>\n",
       "      <td>WI_000519</td>\n",
       "      <td>2015-03-02 15:32:10</td>\n",
       "      <td>2018-01-09 11:37:11</td>\n",
       "      <td>1043 days 20:05:01</td>\n",
       "      <td>1043.84</td>\n",
       "    </tr>\n",
       "    <tr>\n",
       "      <th>910</th>\n",
       "      <td>WI_000911</td>\n",
       "      <td>2015-04-14 17:36:26</td>\n",
       "      <td>2018-02-12 07:21:15</td>\n",
       "      <td>1034 days 13:44:49</td>\n",
       "      <td>1034.57</td>\n",
       "    </tr>\n",
       "    <tr>\n",
       "      <th>1121</th>\n",
       "      <td>WI_001122</td>\n",
       "      <td>2015-05-19 10:23:47</td>\n",
       "      <td>2018-03-16 14:47:51</td>\n",
       "      <td>1032 days 04:24:04</td>\n",
       "      <td>1032.18</td>\n",
       "    </tr>\n",
       "  </tbody>\n",
       "</table>\n",
       "</div>"
      ],
      "text/plain": [
       "      work_item               start                 end           duration  \\\n",
       "196   WI_000197 2015-01-23 15:45:50 2018-02-09 13:54:39 1112 days 22:08:49   \n",
       "435   WI_000436 2015-02-18 13:11:50 2018-02-01 16:53:59 1079 days 03:42:09   \n",
       "518   WI_000519 2015-03-02 15:32:10 2018-01-09 11:37:11 1043 days 20:05:01   \n",
       "910   WI_000911 2015-04-14 17:36:26 2018-02-12 07:21:15 1034 days 13:44:49   \n",
       "1121  WI_001122 2015-05-19 10:23:47 2018-03-16 14:47:51 1032 days 04:24:04   \n",
       "\n",
       "      duration_in_days  \n",
       "196            1112.92  \n",
       "435            1079.15  \n",
       "518            1043.84  \n",
       "910            1034.57  \n",
       "1121           1032.18  "
      ]
     },
     "execution_count": 10,
     "metadata": {},
     "output_type": "execute_result"
    }
   ],
   "source": [
    "train_times, test_times, closed_times, open_times = split_times(times, sep_date_str)\n",
    "print(len(train_times))\n",
    "print(len(test_times))\n",
    "print(len(closed_times))\n",
    "print(len(open_times))\n",
    "test_times.head()"
   ]
  },
  {
   "cell_type": "markdown",
   "metadata": {},
   "source": [
    "**Exercise:** One essential requirement for doing any machine learning is that the data we train on is similar to the data we test on. Do an EDA on both the train and test data and compare the results. What do you find?"
   ]
  },
  {
   "cell_type": "markdown",
   "metadata": {},
   "source": [
    "## A baseline model\n",
    "Before we start with any serious modelling, we recommend to define a baseline to get an idea about the difficulty of the task and to have a lower limit for the prediction performance. The baseline should be\n",
    "- Easy to understand\n",
    "- Easy to implement\n",
    "\n",
    "All *proper* models should perform better than the baseline. \n",
    "We will take the median work item duration as the baseline model. "
   ]
  },
  {
   "cell_type": "markdown",
   "metadata": {},
   "source": [
    "First, we compute the median duration on the training data"
   ]
  },
  {
   "cell_type": "code",
   "execution_count": 11,
   "metadata": {},
   "outputs": [],
   "source": [
    "median_duration = train_times.duration_in_days.median()"
   ]
  },
  {
   "cell_type": "markdown",
   "metadata": {},
   "source": [
    "Now, we create a prediction that is exactly the median for each work item for both the training and test data"
   ]
  },
  {
   "cell_type": "code",
   "execution_count": 12,
   "metadata": {},
   "outputs": [],
   "source": [
    "train_predictions = pd.DataFrame(train_times.work_item)  # Initialize the DataFrame\n",
    "train_predictions['predictions'] = median_duration  # Add the predictions\n",
    "test_predictions = pd.DataFrame(test_times.work_item)\n",
    "test_predictions['predictions'] = median_duration"
   ]
  },
  {
   "cell_type": "markdown",
   "metadata": {},
   "source": [
    "For comparison, we show both the actual duration and predicted duration for a few work items."
   ]
  },
  {
   "cell_type": "code",
   "execution_count": 13,
   "metadata": {},
   "outputs": [
    {
     "data": {
      "text/html": [
       "<div>\n",
       "<style scoped>\n",
       "    .dataframe tbody tr th:only-of-type {\n",
       "        vertical-align: middle;\n",
       "    }\n",
       "\n",
       "    .dataframe tbody tr th {\n",
       "        vertical-align: top;\n",
       "    }\n",
       "\n",
       "    .dataframe thead th {\n",
       "        text-align: right;\n",
       "    }\n",
       "</style>\n",
       "<table border=\"1\" class=\"dataframe\">\n",
       "  <thead>\n",
       "    <tr style=\"text-align: right;\">\n",
       "      <th></th>\n",
       "      <th>work_item</th>\n",
       "      <th>start</th>\n",
       "      <th>end</th>\n",
       "      <th>duration</th>\n",
       "      <th>duration_in_days</th>\n",
       "      <th>predictions</th>\n",
       "    </tr>\n",
       "  </thead>\n",
       "  <tbody>\n",
       "    <tr>\n",
       "      <th>0</th>\n",
       "      <td>WI_000001</td>\n",
       "      <td>2015-01-02 14:39:14</td>\n",
       "      <td>2015-01-27 11:36:51</td>\n",
       "      <td>24 days 20:57:37</td>\n",
       "      <td>24.87</td>\n",
       "      <td>17.735</td>\n",
       "    </tr>\n",
       "    <tr>\n",
       "      <th>1</th>\n",
       "      <td>WI_000002</td>\n",
       "      <td>2015-01-02 15:04:20</td>\n",
       "      <td>2015-01-14 09:46:37</td>\n",
       "      <td>11 days 18:42:17</td>\n",
       "      <td>11.78</td>\n",
       "      <td>17.735</td>\n",
       "    </tr>\n",
       "    <tr>\n",
       "      <th>2</th>\n",
       "      <td>WI_000003</td>\n",
       "      <td>2015-01-02 15:28:22</td>\n",
       "      <td>2015-02-26 11:50:37</td>\n",
       "      <td>54 days 20:22:15</td>\n",
       "      <td>54.85</td>\n",
       "      <td>17.735</td>\n",
       "    </tr>\n",
       "    <tr>\n",
       "      <th>3</th>\n",
       "      <td>WI_000004</td>\n",
       "      <td>2015-01-02 15:33:54</td>\n",
       "      <td>2015-01-28 09:11:05</td>\n",
       "      <td>25 days 17:37:11</td>\n",
       "      <td>25.73</td>\n",
       "      <td>17.735</td>\n",
       "    </tr>\n",
       "    <tr>\n",
       "      <th>4</th>\n",
       "      <td>WI_000005</td>\n",
       "      <td>2015-01-02 16:32:11</td>\n",
       "      <td>2015-02-04 12:57:49</td>\n",
       "      <td>32 days 20:25:38</td>\n",
       "      <td>32.85</td>\n",
       "      <td>17.735</td>\n",
       "    </tr>\n",
       "  </tbody>\n",
       "</table>\n",
       "</div>"
      ],
      "text/plain": [
       "   work_item               start                 end         duration  \\\n",
       "0  WI_000001 2015-01-02 14:39:14 2015-01-27 11:36:51 24 days 20:57:37   \n",
       "1  WI_000002 2015-01-02 15:04:20 2015-01-14 09:46:37 11 days 18:42:17   \n",
       "2  WI_000003 2015-01-02 15:28:22 2015-02-26 11:50:37 54 days 20:22:15   \n",
       "3  WI_000004 2015-01-02 15:33:54 2015-01-28 09:11:05 25 days 17:37:11   \n",
       "4  WI_000005 2015-01-02 16:32:11 2015-02-04 12:57:49 32 days 20:25:38   \n",
       "\n",
       "   duration_in_days  predictions  \n",
       "0             24.87       17.735  \n",
       "1             11.78       17.735  \n",
       "2             54.85       17.735  \n",
       "3             25.73       17.735  \n",
       "4             32.85       17.735  "
      ]
     },
     "execution_count": 13,
     "metadata": {},
     "output_type": "execute_result"
    }
   ],
   "source": [
    "pd.merge(train_times, train_predictions).head()"
   ]
  },
  {
   "cell_type": "markdown",
   "metadata": {},
   "source": [
    "To measure the overall performance of our prediction, we use the *RMSLE*, the *Root Mean Square Log Error* which is defined as:\n",
    "\n",
    "$$\\sqrt{\\frac{1}{n}\\sum_{i=1}^{n}(\\log(p_{i}+1)-\\log(a_{i}+1))^2}$$\n",
    "\n",
    "where \n",
    "- $n$ is the number of work items\n",
    "- $p_{i}$ is the predicted duration for the $i$th work item\n",
    "- $a_{i}$ is the actual duration for the $i$th work item\n",
    "\n",
    "The lower the error, the better. A perfect prediction gives an error of 0. The *RMSLE* is implemented in *src/evaluate.py*."
   ]
  },
  {
   "cell_type": "code",
   "execution_count": 14,
   "metadata": {},
   "outputs": [
    {
     "data": {
      "text/plain": [
       "1.616016923543129"
      ]
     },
     "execution_count": 14,
     "metadata": {},
     "output_type": "execute_result"
    }
   ],
   "source": [
    "rmsle(train_times, train_predictions)"
   ]
  },
  {
   "cell_type": "code",
   "execution_count": 15,
   "metadata": {},
   "outputs": [
    {
     "data": {
      "text/plain": [
       "2.0978309963429287"
      ]
     },
     "execution_count": 15,
     "metadata": {},
     "output_type": "execute_result"
    }
   ],
   "source": [
    "rmsle(test_times, test_predictions)"
   ]
  },
  {
   "cell_type": "markdown",
   "metadata": {},
   "source": [
    "The score on the training data shows us the upper limit of our model. We cannot expect to get better results than this.\n",
    "The score on the test data indicates the performance we can expect on new data. This is the value that we need to optimize.\n",
    "\n",
    "We are also interested in the comparison between training and test score. We aim for similar values. \n",
    "- If the training score is much lower that the test score, we are *overfitting* the model to the data. You should change the features or the model to combat this. \n",
    "- If the test score is much lower than the training score the most likely explanantion is that either there are differences in the distributions of the training and testing data, or you made a mistake during the data preparation.\n",
    "\n",
    "**Exercise: How does the score change when we use the mean instead of median as prediction?**"
   ]
  },
  {
   "cell_type": "markdown",
   "metadata": {},
   "source": [
    "We can also upload our predictions to the scoreboard to see how we fare compared to the other participants. To do this, we need to create predictions for all the work items that are currently open. "
   ]
  },
  {
   "cell_type": "code",
   "execution_count": 16,
   "metadata": {},
   "outputs": [],
   "source": [
    "open_predictions = pd.DataFrame(open_times.work_item)\n",
    "open_predictions['predictions'] = closed_times.duration_in_days.median()  # Use all available data for the final prediction"
   ]
  },
  {
   "cell_type": "markdown",
   "metadata": {},
   "source": [
    "We save the *open_predictions* as a csv file and upload it to *http://10.41.72.110:8000/submit/*. Note that you need to be logged in for the link to work."
   ]
  },
  {
   "cell_type": "code",
   "execution_count": 17,
   "metadata": {},
   "outputs": [],
   "source": [
    "with open('open_predictions_median.csv', 'w') as f:\n",
    "    open_predictions.to_csv(f, index=False)"
   ]
  },
  {
   "cell_type": "markdown",
   "metadata": {},
   "source": [
    "You will find the file *open_predictions_median.csv* in your current working directory (type %pwd to see what it is), usually the same directory where the notebook is stored."
   ]
  },
  {
   "cell_type": "markdown",
   "metadata": {},
   "source": [
    "## The first machine learning model\n",
    "Now it is time to train our first machine learning model. We will use the KNNRegressor algorithm (k-Nearest-Neighbour). It is easy to understand and allows us to introduce the main concepts. To predict the lead time $l(w)$ for a work item $w$, the default [KNNRegressor](https://scikit-learn.org/stable/modules/generated/sklearn.neighbors.KNeighborsRegressor.html) algorithm:\n",
    "\n",
    "1. Finds the $k$ work items $w_i, ..., w_k$ in your training data that are most similar to $w$, aka the *Nearest Neighbours*\n",
    "2. Sets the lead time prediction for $w$ as the mean lead time of the $k$ most similar work items $w_1, .., w_k$: \n",
    "$$l(w) = \\frac{1}{k}\\sum_{i=1}^k l(w_i)$$\n",
    "\n",
    "But how can we define similarity between work items? "
   ]
  },
  {
   "cell_type": "code",
   "execution_count": 18,
   "metadata": {},
   "outputs": [
    {
     "data": {
      "text/html": [
       "<div>\n",
       "<style scoped>\n",
       "    .dataframe tbody tr th:only-of-type {\n",
       "        vertical-align: middle;\n",
       "    }\n",
       "\n",
       "    .dataframe tbody tr th {\n",
       "        vertical-align: top;\n",
       "    }\n",
       "\n",
       "    .dataframe thead th {\n",
       "        text-align: right;\n",
       "    }\n",
       "</style>\n",
       "<table border=\"1\" class=\"dataframe\">\n",
       "  <thead>\n",
       "    <tr style=\"text-align: right;\">\n",
       "      <th></th>\n",
       "      <th>timestamp</th>\n",
       "      <th>work_item</th>\n",
       "      <th>work_type</th>\n",
       "      <th>work_priority</th>\n",
       "      <th>domain</th>\n",
       "      <th>platform</th>\n",
       "      <th>components</th>\n",
       "      <th>from_phase</th>\n",
       "      <th>to_phase</th>\n",
       "      <th>from_resource</th>\n",
       "      <th>to_resource</th>\n",
       "    </tr>\n",
       "  </thead>\n",
       "  <tbody>\n",
       "    <tr>\n",
       "      <th>0</th>\n",
       "      <td>2015-01-02 14:39:14</td>\n",
       "      <td>WI_000001</td>\n",
       "      <td>WT_00001</td>\n",
       "      <td>WP_00003</td>\n",
       "      <td>BD_00001</td>\n",
       "      <td>PL_00001</td>\n",
       "      <td>NaN</td>\n",
       "      <td>Start</td>\n",
       "      <td>Analyze</td>\n",
       "      <td>NaN</td>\n",
       "      <td>ER_00043</td>\n",
       "    </tr>\n",
       "    <tr>\n",
       "      <th>1</th>\n",
       "      <td>2015-01-02 15:04:20</td>\n",
       "      <td>WI_000002</td>\n",
       "      <td>WT_00002</td>\n",
       "      <td>WP_00004</td>\n",
       "      <td>BD_00002</td>\n",
       "      <td>PL_00002</td>\n",
       "      <td>CO_00037/CO_00071</td>\n",
       "      <td>Start</td>\n",
       "      <td>Analyze</td>\n",
       "      <td>NaN</td>\n",
       "      <td>ER_00225</td>\n",
       "    </tr>\n",
       "    <tr>\n",
       "      <th>2</th>\n",
       "      <td>2015-01-02 15:28:22</td>\n",
       "      <td>WI_000003</td>\n",
       "      <td>WT_00002</td>\n",
       "      <td>WP_00004</td>\n",
       "      <td>BD_00002</td>\n",
       "      <td>PL_00002</td>\n",
       "      <td>CO_00037/CO_00071</td>\n",
       "      <td>Start</td>\n",
       "      <td>Analyze</td>\n",
       "      <td>NaN</td>\n",
       "      <td>ER_00225</td>\n",
       "    </tr>\n",
       "    <tr>\n",
       "      <th>3</th>\n",
       "      <td>2015-01-02 15:33:54</td>\n",
       "      <td>WI_000004</td>\n",
       "      <td>WT_00002</td>\n",
       "      <td>WP_00004</td>\n",
       "      <td>BD_00002</td>\n",
       "      <td>PL_00002</td>\n",
       "      <td>CO_00037/CO_00071</td>\n",
       "      <td>Start</td>\n",
       "      <td>Analyze</td>\n",
       "      <td>NaN</td>\n",
       "      <td>ER_00225</td>\n",
       "    </tr>\n",
       "    <tr>\n",
       "      <th>4</th>\n",
       "      <td>2015-01-02 16:32:11</td>\n",
       "      <td>WI_000005</td>\n",
       "      <td>WT_00002</td>\n",
       "      <td>WP_00003</td>\n",
       "      <td>BD_00003</td>\n",
       "      <td>PL_00003</td>\n",
       "      <td>CO_00113</td>\n",
       "      <td>Start</td>\n",
       "      <td>Analyze</td>\n",
       "      <td>NaN</td>\n",
       "      <td>ER_00206</td>\n",
       "    </tr>\n",
       "  </tbody>\n",
       "</table>\n",
       "</div>"
      ],
      "text/plain": [
       "            timestamp  work_item work_type work_priority    domain  platform  \\\n",
       "0 2015-01-02 14:39:14  WI_000001  WT_00001      WP_00003  BD_00001  PL_00001   \n",
       "1 2015-01-02 15:04:20  WI_000002  WT_00002      WP_00004  BD_00002  PL_00002   \n",
       "2 2015-01-02 15:28:22  WI_000003  WT_00002      WP_00004  BD_00002  PL_00002   \n",
       "3 2015-01-02 15:33:54  WI_000004  WT_00002      WP_00004  BD_00002  PL_00002   \n",
       "4 2015-01-02 16:32:11  WI_000005  WT_00002      WP_00003  BD_00003  PL_00003   \n",
       "\n",
       "          components from_phase to_phase from_resource to_resource  \n",
       "0                NaN      Start  Analyze           NaN    ER_00043  \n",
       "1  CO_00037/CO_00071      Start  Analyze           NaN    ER_00225  \n",
       "2  CO_00037/CO_00071      Start  Analyze           NaN    ER_00225  \n",
       "3  CO_00037/CO_00071      Start  Analyze           NaN    ER_00225  \n",
       "4           CO_00113      Start  Analyze           NaN    ER_00206  "
      ]
     },
     "execution_count": 18,
     "metadata": {},
     "output_type": "execute_result"
    }
   ],
   "source": [
    "df.head()"
   ]
  },
  {
   "cell_type": "markdown",
   "metadata": {},
   "source": [
    "As usual, there is more than one solution. We will start by only looking at *work_type* and *work_priority*: We define that two work items are equal, if and only if they have the same work type and same work priority. To do this, we will use a One-Hot-Encoding of the categorical features *work_type* and *work_priority*."
   ]
  },
  {
   "cell_type": "code",
   "execution_count": 19,
   "metadata": {},
   "outputs": [],
   "source": [
    "# The train/test times df tells us which work items we can use for training/testing\n",
    "train_work_items = set(train_times.work_item)  \n",
    "test_work_items = set(test_times.work_item)  \n",
    "# Both the work type and work priority might change over time. \n",
    "# For now, we'll take the values the work item had when it was created.\n",
    "df_start_only = df[df.from_phase == 'Start']\n",
    "# To extract the work type and work priority, we need to filter on the original data\n",
    "train_df = df_start_only[df_start_only.work_item.isin(train_work_items)]  \n",
    "test_df = df_start_only[df_start_only.work_item.isin(test_work_items)]"
   ]
  },
  {
   "cell_type": "markdown",
   "metadata": {},
   "source": [
    "We fit the OneHotEncoder on the training data and then transform both the training and the test data. \n",
    "\n",
    "(Note that the easy distiction between fitting and transforming is reason we use OneHotEncoder instead of pd.get_dummies. It makes deployment easier.)"
   ]
  },
  {
   "cell_type": "code",
   "execution_count": 20,
   "metadata": {},
   "outputs": [],
   "source": [
    "onehotencoder = OneHotEncoder(sparse=False)\n",
    "cols_to_encode = ['work_type', 'work_priority']\n",
    "train_features = onehotencoder.fit_transform(train_df[cols_to_encode])\n",
    "test_features = onehotencoder.transform(test_df[cols_to_encode])"
   ]
  },
  {
   "cell_type": "markdown",
   "metadata": {},
   "source": [
    "To get a better understanding of the transformation, let's take a look at two different work items and their features"
   ]
  },
  {
   "cell_type": "code",
   "execution_count": 21,
   "metadata": {},
   "outputs": [
    {
     "name": "stdout",
     "output_type": "stream",
     "text": [
      "timestamp        2015-01-02 14:39:14\n",
      "work_item                  WI_000001\n",
      "work_type                   WT_00001\n",
      "work_priority               WP_00003\n",
      "domain                      BD_00001\n",
      "platform                    PL_00001\n",
      "components                       NaN\n",
      "from_phase                     Start\n",
      "to_phase                     Analyze\n",
      "from_resource                    NaN\n",
      "to_resource                 ER_00043\n",
      "Name: 0, dtype: object\n",
      "[1. 0. 0. 0. 0. 1. 0. 0.]\n"
     ]
    }
   ],
   "source": [
    "print(train_df.loc[0])  # We use .loc[0] to access the first row of a DataFrame\n",
    "print(train_features[0])  # We use [0] to access the first entry in an array"
   ]
  },
  {
   "cell_type": "code",
   "execution_count": 22,
   "metadata": {},
   "outputs": [
    {
     "name": "stdout",
     "output_type": "stream",
     "text": [
      "timestamp        2015-01-02 15:04:20\n",
      "work_item                  WI_000002\n",
      "work_type                   WT_00002\n",
      "work_priority               WP_00004\n",
      "domain                      BD_00002\n",
      "platform                    PL_00002\n",
      "components         CO_00037/CO_00071\n",
      "from_phase                     Start\n",
      "to_phase                     Analyze\n",
      "from_resource                    NaN\n",
      "to_resource                 ER_00225\n",
      "Name: 1, dtype: object\n",
      "[0. 1. 0. 0. 0. 0. 1. 0.]\n"
     ]
    }
   ],
   "source": [
    "print(train_df.loc[1])\n",
    "print(train_features[1])"
   ]
  },
  {
   "cell_type": "markdown",
   "metadata": {},
   "source": [
    "The first three columns encode the work type\n",
    "- The first column in train_features is 1 iff the work type is WT_0001.\n",
    "- The second column in train_features is 1 iff the work type is WT_0002.\n",
    "- The third column in train_features is 1 iff the work type is WT_0003.\n",
    "\n",
    "Similarly, the remaining columns encode the the work priority. You can see the mapping by calling the *get_feature_names* function:"
   ]
  },
  {
   "cell_type": "code",
   "execution_count": 23,
   "metadata": {},
   "outputs": [
    {
     "data": {
      "text/plain": [
       "array(['x0_WT_00001', 'x0_WT_00002', 'x0_WT_00003', 'x1_WP_00001',\n",
       "       'x1_WP_00002', 'x1_WP_00003', 'x1_WP_00004', 'x1_WP_00005'],\n",
       "      dtype=object)"
      ]
     },
     "execution_count": 23,
     "metadata": {},
     "output_type": "execute_result"
    }
   ],
   "source": [
    "onehotencoder.get_feature_names()"
   ]
  },
  {
   "cell_type": "code",
   "execution_count": 29,
   "metadata": {},
   "outputs": [
    {
     "data": {
      "text/html": [
       "<div>\n",
       "<style scoped>\n",
       "    .dataframe tbody tr th:only-of-type {\n",
       "        vertical-align: middle;\n",
       "    }\n",
       "\n",
       "    .dataframe tbody tr th {\n",
       "        vertical-align: top;\n",
       "    }\n",
       "\n",
       "    .dataframe thead th {\n",
       "        text-align: right;\n",
       "    }\n",
       "</style>\n",
       "<table border=\"1\" class=\"dataframe\">\n",
       "  <thead>\n",
       "    <tr style=\"text-align: right;\">\n",
       "      <th></th>\n",
       "      <th>work_type</th>\n",
       "      <th>work_priority</th>\n",
       "    </tr>\n",
       "  </thead>\n",
       "  <tbody>\n",
       "    <tr>\n",
       "      <th>0</th>\n",
       "      <td>WT_00001</td>\n",
       "      <td>WP_00003</td>\n",
       "    </tr>\n",
       "    <tr>\n",
       "      <th>1</th>\n",
       "      <td>WT_00002</td>\n",
       "      <td>WP_00004</td>\n",
       "    </tr>\n",
       "    <tr>\n",
       "      <th>2</th>\n",
       "      <td>WT_00002</td>\n",
       "      <td>WP_00004</td>\n",
       "    </tr>\n",
       "    <tr>\n",
       "      <th>3</th>\n",
       "      <td>WT_00002</td>\n",
       "      <td>WP_00004</td>\n",
       "    </tr>\n",
       "    <tr>\n",
       "      <th>4</th>\n",
       "      <td>WT_00002</td>\n",
       "      <td>WP_00003</td>\n",
       "    </tr>\n",
       "    <tr>\n",
       "      <th>5</th>\n",
       "      <td>WT_00002</td>\n",
       "      <td>WP_00003</td>\n",
       "    </tr>\n",
       "    <tr>\n",
       "      <th>6</th>\n",
       "      <td>WT_00002</td>\n",
       "      <td>WP_00003</td>\n",
       "    </tr>\n",
       "    <tr>\n",
       "      <th>8</th>\n",
       "      <td>WT_00002</td>\n",
       "      <td>WP_00003</td>\n",
       "    </tr>\n",
       "    <tr>\n",
       "      <th>9</th>\n",
       "      <td>WT_00002</td>\n",
       "      <td>WP_00003</td>\n",
       "    </tr>\n",
       "    <tr>\n",
       "      <th>11</th>\n",
       "      <td>WT_00002</td>\n",
       "      <td>WP_00003</td>\n",
       "    </tr>\n",
       "    <tr>\n",
       "      <th>13</th>\n",
       "      <td>WT_00001</td>\n",
       "      <td>WP_00003</td>\n",
       "    </tr>\n",
       "    <tr>\n",
       "      <th>16</th>\n",
       "      <td>WT_00002</td>\n",
       "      <td>WP_00003</td>\n",
       "    </tr>\n",
       "    <tr>\n",
       "      <th>18</th>\n",
       "      <td>WT_00002</td>\n",
       "      <td>WP_00002</td>\n",
       "    </tr>\n",
       "    <tr>\n",
       "      <th>19</th>\n",
       "      <td>WT_00001</td>\n",
       "      <td>WP_00002</td>\n",
       "    </tr>\n",
       "    <tr>\n",
       "      <th>20</th>\n",
       "      <td>WT_00002</td>\n",
       "      <td>WP_00003</td>\n",
       "    </tr>\n",
       "    <tr>\n",
       "      <th>22</th>\n",
       "      <td>WT_00002</td>\n",
       "      <td>WP_00004</td>\n",
       "    </tr>\n",
       "    <tr>\n",
       "      <th>25</th>\n",
       "      <td>WT_00001</td>\n",
       "      <td>WP_00004</td>\n",
       "    </tr>\n",
       "    <tr>\n",
       "      <th>26</th>\n",
       "      <td>WT_00001</td>\n",
       "      <td>WP_00004</td>\n",
       "    </tr>\n",
       "    <tr>\n",
       "      <th>27</th>\n",
       "      <td>WT_00001</td>\n",
       "      <td>WP_00004</td>\n",
       "    </tr>\n",
       "    <tr>\n",
       "      <th>28</th>\n",
       "      <td>WT_00001</td>\n",
       "      <td>WP_00004</td>\n",
       "    </tr>\n",
       "    <tr>\n",
       "      <th>30</th>\n",
       "      <td>WT_00001</td>\n",
       "      <td>WP_00004</td>\n",
       "    </tr>\n",
       "    <tr>\n",
       "      <th>31</th>\n",
       "      <td>WT_00002</td>\n",
       "      <td>WP_00004</td>\n",
       "    </tr>\n",
       "    <tr>\n",
       "      <th>32</th>\n",
       "      <td>WT_00002</td>\n",
       "      <td>WP_00003</td>\n",
       "    </tr>\n",
       "    <tr>\n",
       "      <th>33</th>\n",
       "      <td>WT_00002</td>\n",
       "      <td>WP_00003</td>\n",
       "    </tr>\n",
       "    <tr>\n",
       "      <th>34</th>\n",
       "      <td>WT_00002</td>\n",
       "      <td>WP_00004</td>\n",
       "    </tr>\n",
       "    <tr>\n",
       "      <th>41</th>\n",
       "      <td>WT_00002</td>\n",
       "      <td>WP_00003</td>\n",
       "    </tr>\n",
       "    <tr>\n",
       "      <th>43</th>\n",
       "      <td>WT_00002</td>\n",
       "      <td>WP_00003</td>\n",
       "    </tr>\n",
       "    <tr>\n",
       "      <th>45</th>\n",
       "      <td>WT_00002</td>\n",
       "      <td>WP_00004</td>\n",
       "    </tr>\n",
       "    <tr>\n",
       "      <th>47</th>\n",
       "      <td>WT_00001</td>\n",
       "      <td>WP_00004</td>\n",
       "    </tr>\n",
       "    <tr>\n",
       "      <th>48</th>\n",
       "      <td>WT_00001</td>\n",
       "      <td>WP_00003</td>\n",
       "    </tr>\n",
       "    <tr>\n",
       "      <th>...</th>\n",
       "      <td>...</td>\n",
       "      <td>...</td>\n",
       "    </tr>\n",
       "    <tr>\n",
       "      <th>63858</th>\n",
       "      <td>WT_00003</td>\n",
       "      <td>WP_00005</td>\n",
       "    </tr>\n",
       "    <tr>\n",
       "      <th>63870</th>\n",
       "      <td>WT_00003</td>\n",
       "      <td>WP_00001</td>\n",
       "    </tr>\n",
       "    <tr>\n",
       "      <th>63871</th>\n",
       "      <td>WT_00003</td>\n",
       "      <td>WP_00003</td>\n",
       "    </tr>\n",
       "    <tr>\n",
       "      <th>63904</th>\n",
       "      <td>WT_00002</td>\n",
       "      <td>WP_00003</td>\n",
       "    </tr>\n",
       "    <tr>\n",
       "      <th>63905</th>\n",
       "      <td>WT_00001</td>\n",
       "      <td>WP_00003</td>\n",
       "    </tr>\n",
       "    <tr>\n",
       "      <th>63909</th>\n",
       "      <td>WT_00002</td>\n",
       "      <td>WP_00001</td>\n",
       "    </tr>\n",
       "    <tr>\n",
       "      <th>63916</th>\n",
       "      <td>WT_00003</td>\n",
       "      <td>WP_00001</td>\n",
       "    </tr>\n",
       "    <tr>\n",
       "      <th>63923</th>\n",
       "      <td>WT_00002</td>\n",
       "      <td>WP_00003</td>\n",
       "    </tr>\n",
       "    <tr>\n",
       "      <th>63989</th>\n",
       "      <td>WT_00002</td>\n",
       "      <td>WP_00001</td>\n",
       "    </tr>\n",
       "    <tr>\n",
       "      <th>64001</th>\n",
       "      <td>WT_00002</td>\n",
       "      <td>WP_00003</td>\n",
       "    </tr>\n",
       "    <tr>\n",
       "      <th>64013</th>\n",
       "      <td>WT_00003</td>\n",
       "      <td>WP_00001</td>\n",
       "    </tr>\n",
       "    <tr>\n",
       "      <th>64081</th>\n",
       "      <td>WT_00002</td>\n",
       "      <td>WP_00001</td>\n",
       "    </tr>\n",
       "    <tr>\n",
       "      <th>64097</th>\n",
       "      <td>WT_00002</td>\n",
       "      <td>WP_00005</td>\n",
       "    </tr>\n",
       "    <tr>\n",
       "      <th>64099</th>\n",
       "      <td>WT_00002</td>\n",
       "      <td>WP_00005</td>\n",
       "    </tr>\n",
       "    <tr>\n",
       "      <th>64101</th>\n",
       "      <td>WT_00002</td>\n",
       "      <td>WP_00005</td>\n",
       "    </tr>\n",
       "    <tr>\n",
       "      <th>64115</th>\n",
       "      <td>WT_00003</td>\n",
       "      <td>WP_00002</td>\n",
       "    </tr>\n",
       "    <tr>\n",
       "      <th>64117</th>\n",
       "      <td>WT_00002</td>\n",
       "      <td>WP_00002</td>\n",
       "    </tr>\n",
       "    <tr>\n",
       "      <th>64145</th>\n",
       "      <td>WT_00001</td>\n",
       "      <td>WP_00005</td>\n",
       "    </tr>\n",
       "    <tr>\n",
       "      <th>64153</th>\n",
       "      <td>WT_00003</td>\n",
       "      <td>WP_00003</td>\n",
       "    </tr>\n",
       "    <tr>\n",
       "      <th>64154</th>\n",
       "      <td>WT_00002</td>\n",
       "      <td>WP_00001</td>\n",
       "    </tr>\n",
       "    <tr>\n",
       "      <th>64164</th>\n",
       "      <td>WT_00003</td>\n",
       "      <td>WP_00001</td>\n",
       "    </tr>\n",
       "    <tr>\n",
       "      <th>64218</th>\n",
       "      <td>WT_00002</td>\n",
       "      <td>WP_00001</td>\n",
       "    </tr>\n",
       "    <tr>\n",
       "      <th>64268</th>\n",
       "      <td>WT_00003</td>\n",
       "      <td>WP_00001</td>\n",
       "    </tr>\n",
       "    <tr>\n",
       "      <th>64286</th>\n",
       "      <td>WT_00003</td>\n",
       "      <td>WP_00001</td>\n",
       "    </tr>\n",
       "    <tr>\n",
       "      <th>64387</th>\n",
       "      <td>WT_00001</td>\n",
       "      <td>WP_00003</td>\n",
       "    </tr>\n",
       "    <tr>\n",
       "      <th>64431</th>\n",
       "      <td>WT_00002</td>\n",
       "      <td>WP_00003</td>\n",
       "    </tr>\n",
       "    <tr>\n",
       "      <th>64544</th>\n",
       "      <td>WT_00002</td>\n",
       "      <td>WP_00001</td>\n",
       "    </tr>\n",
       "    <tr>\n",
       "      <th>64555</th>\n",
       "      <td>WT_00003</td>\n",
       "      <td>WP_00001</td>\n",
       "    </tr>\n",
       "    <tr>\n",
       "      <th>64560</th>\n",
       "      <td>WT_00002</td>\n",
       "      <td>WP_00001</td>\n",
       "    </tr>\n",
       "    <tr>\n",
       "      <th>64566</th>\n",
       "      <td>WT_00002</td>\n",
       "      <td>WP_00001</td>\n",
       "    </tr>\n",
       "  </tbody>\n",
       "</table>\n",
       "<p>9290 rows × 2 columns</p>\n",
       "</div>"
      ],
      "text/plain": [
       "      work_type work_priority\n",
       "0      WT_00001      WP_00003\n",
       "1      WT_00002      WP_00004\n",
       "2      WT_00002      WP_00004\n",
       "3      WT_00002      WP_00004\n",
       "4      WT_00002      WP_00003\n",
       "5      WT_00002      WP_00003\n",
       "6      WT_00002      WP_00003\n",
       "8      WT_00002      WP_00003\n",
       "9      WT_00002      WP_00003\n",
       "11     WT_00002      WP_00003\n",
       "13     WT_00001      WP_00003\n",
       "16     WT_00002      WP_00003\n",
       "18     WT_00002      WP_00002\n",
       "19     WT_00001      WP_00002\n",
       "20     WT_00002      WP_00003\n",
       "22     WT_00002      WP_00004\n",
       "25     WT_00001      WP_00004\n",
       "26     WT_00001      WP_00004\n",
       "27     WT_00001      WP_00004\n",
       "28     WT_00001      WP_00004\n",
       "30     WT_00001      WP_00004\n",
       "31     WT_00002      WP_00004\n",
       "32     WT_00002      WP_00003\n",
       "33     WT_00002      WP_00003\n",
       "34     WT_00002      WP_00004\n",
       "41     WT_00002      WP_00003\n",
       "43     WT_00002      WP_00003\n",
       "45     WT_00002      WP_00004\n",
       "47     WT_00001      WP_00004\n",
       "48     WT_00001      WP_00003\n",
       "...         ...           ...\n",
       "63858  WT_00003      WP_00005\n",
       "63870  WT_00003      WP_00001\n",
       "63871  WT_00003      WP_00003\n",
       "63904  WT_00002      WP_00003\n",
       "63905  WT_00001      WP_00003\n",
       "63909  WT_00002      WP_00001\n",
       "63916  WT_00003      WP_00001\n",
       "63923  WT_00002      WP_00003\n",
       "63989  WT_00002      WP_00001\n",
       "64001  WT_00002      WP_00003\n",
       "64013  WT_00003      WP_00001\n",
       "64081  WT_00002      WP_00001\n",
       "64097  WT_00002      WP_00005\n",
       "64099  WT_00002      WP_00005\n",
       "64101  WT_00002      WP_00005\n",
       "64115  WT_00003      WP_00002\n",
       "64117  WT_00002      WP_00002\n",
       "64145  WT_00001      WP_00005\n",
       "64153  WT_00003      WP_00003\n",
       "64154  WT_00002      WP_00001\n",
       "64164  WT_00003      WP_00001\n",
       "64218  WT_00002      WP_00001\n",
       "64268  WT_00003      WP_00001\n",
       "64286  WT_00003      WP_00001\n",
       "64387  WT_00001      WP_00003\n",
       "64431  WT_00002      WP_00003\n",
       "64544  WT_00002      WP_00001\n",
       "64555  WT_00003      WP_00001\n",
       "64560  WT_00002      WP_00001\n",
       "64566  WT_00002      WP_00001\n",
       "\n",
       "[9290 rows x 2 columns]"
      ]
     },
     "execution_count": 29,
     "metadata": {},
     "output_type": "execute_result"
    }
   ],
   "source": [
    "train_df[cols_to_encode]"
   ]
  },
  {
   "cell_type": "markdown",
   "metadata": {},
   "source": [
    "Now that we have a mapping from data points to a vector space, we can use any metric between the two feature vectors to define similarity. \n",
    "\n",
    "The process of mapping the information about a data point into a vector space is called **feature engineering**.\n",
    "The quality of your results will hugely depend on the features you engineer. Changing the mapping is an easy way of improving your results as we will see later."
   ]
  },
  {
   "cell_type": "markdown",
   "metadata": {},
   "source": [
    "The next step is to define and fit the actual model with all hyperparameters."
   ]
  },
  {
   "cell_type": "code",
   "execution_count": 24,
   "metadata": {},
   "outputs": [
    {
     "data": {
      "text/plain": [
       "KNeighborsRegressor(algorithm='auto', leaf_size=30, metric='minkowski',\n",
       "          metric_params=None, n_jobs=None, n_neighbors=5, p=2,\n",
       "          weights='uniform')"
      ]
     },
     "execution_count": 24,
     "metadata": {},
     "output_type": "execute_result"
    }
   ],
   "source": [
    "knn = KNeighborsRegressor()\n",
    "knn.fit(train_features, train_times.duration_in_days)"
   ]
  },
  {
   "cell_type": "code",
   "execution_count": 32,
   "metadata": {},
   "outputs": [
    {
     "data": {
      "text/plain": [
       "9290"
      ]
     },
     "execution_count": 32,
     "metadata": {},
     "output_type": "execute_result"
    }
   ],
   "source": [
    "len(train_df)"
   ]
  },
  {
   "cell_type": "markdown",
   "metadata": {},
   "source": [
    "Note the *metric='minkowski'* parameter that defines the similarity between two work items. Check the [documentation](https://scikit-learn.org/stable/modules/generated/sklearn.neighbors.KNeighborsRegressor.html) to learn about other options.\n",
    "\n",
    "As before, we create predictions for the train and test data and compute the *rmsle*"
   ]
  },
  {
   "cell_type": "code",
   "execution_count": 25,
   "metadata": {},
   "outputs": [
    {
     "name": "stdout",
     "output_type": "stream",
     "text": [
      "1.9927739627081689\n",
      "1.4920379330188251\n"
     ]
    }
   ],
   "source": [
    "train_predictions = pd.DataFrame(train_times.work_item)  \n",
    "train_predictions['predictions'] = knn.predict(train_features)\n",
    "test_predictions = pd.DataFrame(test_times.work_item)\n",
    "test_predictions['predictions'] = knn.predict(test_features)\n",
    "print(rmsle(train_times, train_predictions))\n",
    "print(rmsle(test_times, test_predictions))"
   ]
  },
  {
   "cell_type": "markdown",
   "metadata": {},
   "source": [
    "The *RMSLE* on the training data is actually higher than our baseline. This should not happen. However, the *RMSLE* on our test data is a lot lower than the the baseline value.\n",
    "\n",
    "A scatterplots of the predictions vs the actual durations can help us get additional insights."
   ]
  },
  {
   "cell_type": "code",
   "execution_count": 26,
   "metadata": {},
   "outputs": [
    {
     "data": {
      "text/plain": [
       "Text(0.5, 0, 'Actual duration')"
      ]
     },
     "execution_count": 26,
     "metadata": {},
     "output_type": "execute_result"
    },
    {
     "data": {
      "image/png": "[encoded data removed]",
      "text/plain": [
       "<Figure size 1080x360 with 2 Axes>"
      ]
     },
     "metadata": {
      "needs_background": "light"
     },
     "output_type": "display_data"
    }
   ],
   "source": [
    "fig, axs = plt.subplots(1, 2, constrained_layout=True, figsize=(15,5), sharey=True, sharex=True)\n",
    "fig.suptitle('Actuals vs Predictions', fontsize=16)\n",
    "axs[0].scatter(x=train_times.duration_in_days, y=train_predictions.predictions, alpha=0.1)\n",
    "axs[0].set_title('Train Data')\n",
    "axs[0].set_xlabel('Actual duration')\n",
    "axs[0].set_ylabel('Predicted duration')\n",
    "axs[1].scatter(x=test_times.duration_in_days, y=test_predictions.predictions, alpha=0.1)\n",
    "axs[1].set_title('Test Data')\n",
    "axs[1].set_xlabel('Actual duration')"
   ]
  },
  {
   "cell_type": "markdown",
   "metadata": {},
   "source": [
    "If our predictions were perfect, we would see a diagonal line. Unfortunately, this is not the case. There are two main observations\n",
    "\n",
    "1. There is a big difference between the highest predicted duration (200 days) and the actual maximum (over 1200 days)\n",
    "2. Our model is not expressive enough: It only predicts a handful of different numbers. "
   ]
  },
  {
   "cell_type": "markdown",
   "metadata": {},
   "source": [
    "**Exercises:**\n",
    "\n",
    "- Investigate why there is this big difference between the training and test performance. How should you deal with this?\n",
    "- How does changing the separation date effect the performance?\n",
    "- Create a new open_prediction.csv file for the KNNRegressor prediction and upload it to the leaderboard. How does is compare to the baseline.\n",
    "- Experiment with different feature encodings. E.g. by changing the columns to encode\n",
    "```python\n",
    "cols_to_encode = ['work_type', 'work_priority', 'domain']\n",
    "```\n",
    "- Try out different hyperparameters for the model e.g. via\n",
    "```python\n",
    "knn = KNeighborsRegressor(n_neighbors=10, metric='minkowski', p=1)\n",
    "```\n",
    "- Try out different model types, e.g. a linear or SVM model, and compare the results. Check the [scikit-learn](https://scikit-learn.org/stable/supervised_learning.html) library for ideas."
   ]
  },
  {
   "cell_type": "markdown",
   "metadata": {},
   "source": [
    "## Submitting the results to the public leaderboard\n",
    "In order to compete, we will need to create predictions for all open work items. For this, we need to\n",
    "- Train a model on all closed work items\n",
    "- Create predictions on all open work items\n",
    "- Submit the predictions to the website"
   ]
  },
  {
   "cell_type": "code",
   "execution_count": 27,
   "metadata": {},
   "outputs": [],
   "source": [
    "# All work items that are finished become our training data, all open work items our test data\n",
    "closed_work_items = set(closed_times.work_item)  \n",
    "open_work_items = set(open_times.work_item)  \n",
    "closed_df = df_start_only[df_start_only.work_item.isin(closed_work_items)]  \n",
    "open_df = df_start_only[df_start_only.work_item.isin(open_work_items)]\n",
    "\n",
    "# Compute the features\n",
    "onehotencoder = OneHotEncoder(sparse=False, handle_unknown='ignore')\n",
    "cols_to_encode = ['work_type', 'work_priority']\n",
    "closed_features = onehotencoder.fit_transform(closed_df[cols_to_encode])\n",
    "open_features = onehotencoder.transform(open_df[cols_to_encode])\n",
    "\n",
    "model = KNeighborsRegressor()\n",
    "model.fit(closed_features, closed_times.duration_in_days)\n",
    "open_predictions = pd.DataFrame(open_times.work_item)\n",
    "open_predictions['predictions'] = model.predict(open_features)\n",
    "\n",
    "with open('open_predictions_knn_wt_wp.csv', 'w') as f:\n",
    "    open_predictions.to_csv(f, index=False)"
   ]
  },
  {
   "cell_type": "markdown",
   "metadata": {},
   "source": [
    "With an RMSLE of around 1.81, the results are between our training and test result. Usually, you'd want the validation results to be similar to the test results. One difference between our test set and the one on the website it that we only used two month of data, while the official data uses a longer timespan (around 6 month).  It seems that we will need to define a better test set. "
   ]
  },
  {
   "cell_type": "markdown",
   "metadata": {},
   "source": [
    "## Conclusion\n",
    "This concludes the second tutorial. We covered basic features engineering via One-Hot-Encodings, trained two different models and explored several evaluation methods. \n",
    "\n",
    "In the next tutorial, you will learn\n",
    "- model improvement via hyperparameter tuning and feature engineering\n",
    "- a better method to measure model quality\n",
    "- best practices for experiment tracking"
   ]
  }
 ],
 "metadata": {
  "kernelspec": {
   "display_name": "Python 3",
   "language": "python",
   "name": "python3"
  },
  "language_info": {
   "codemirror_mode": {
    "name": "ipython",
    "version": 3
   },
   "file_extension": ".py",
   "mimetype": "text/x-python",
   "name": "python",
   "nbconvert_exporter": "python",
   "pygments_lexer": "ipython3",
   "version": "3.7.1"
  }
 },
 "nbformat": 4,
 "nbformat_minor": 1
}
