{
 "cells": [
  {
   "cell_type": "raw",
   "metadata": {},
   "source": [
    "Regular expression exercies"
   ]
  },
  {
   "cell_type": "code",
   "execution_count": 1,
   "metadata": {},
   "outputs": [
    {
     "name": "stdout",
     "output_type": "stream",
     "text": [
      "['2', '19', '20']\n"
     ]
    }
   ],
   "source": [
    "import re\n",
    "x='My 2 fav nos are 19 and 20'\n",
    "z=re.findall('[0-9]+',x)\n",
    "print(z)"
   ]
  },
  {
   "cell_type": "code",
   "execution_count": 2,
   "metadata": {},
   "outputs": [
    {
     "name": "stdout",
     "output_type": "stream",
     "text": [
      "['a', 'o', 'a', 'e', 'a']\n"
     ]
    }
   ],
   "source": [
    "print(re.findall('[aeiou]+',x))"
   ]
  },
  {
   "cell_type": "code",
   "execution_count": 3,
   "metadata": {},
   "outputs": [
    {
     "name": "stdout",
     "output_type": "stream",
     "text": [
      "['From: using :']\n"
     ]
    }
   ],
   "source": [
    "#This shows diff between greedy one and non-greedy one\n",
    "x='From: using : character '\n",
    "print(re.findall('^F.+:',x))"
   ]
  },
  {
   "cell_type": "code",
   "execution_count": 4,
   "metadata": {},
   "outputs": [
    {
     "name": "stdout",
     "output_type": "stream",
     "text": [
      "['From:']\n"
     ]
    }
   ],
   "source": [
    "print(re.findall('^F.+?:',x))"
   ]
  },
  {
   "cell_type": "code",
   "execution_count": 6,
   "metadata": {},
   "outputs": [
    {
     "name": "stdout",
     "output_type": "stream",
     "text": [
      "['From:', 'using', ':', 'character']\n"
     ]
    }
   ],
   "source": [
    "#one or more non space character\n",
    "print(re.findall('\\S+',x))"
   ]
  },
  {
   "cell_type": "code",
   "execution_count": 9,
   "metadata": {},
   "outputs": [
    {
     "name": "stdout",
     "output_type": "stream",
     "text": [
      "['bhavya.rangaraju@gmail.com']\n"
     ]
    }
   ],
   "source": [
    "#use of () \n",
    "x='From bhavya.rangaraju@gmail.com To divya.rangaraju@gmail.com'\n",
    "print(re.findall('^From (\\S+@\\S+)',x))\n",
    "#this shows it will find match for the given string and extracts only the part with in ()"
   ]
  },
  {
   "cell_type": "code",
   "execution_count": 14,
   "metadata": {},
   "outputs": [
    {
     "name": "stdout",
     "output_type": "stream",
     "text": [
      "['gmail.com', 'gmail.com']\n"
     ]
    }
   ],
   "source": [
    "print(re.findall('@([^ ]*)',x))\n",
    "#beginning with non-blank character after @ symbol"
   ]
  },
  {
   "cell_type": "raw",
   "metadata": {},
   "source": [
    "#task\n",
    "read a text file containing numbers and text and extract all the numbers and sum up the numbers"
   ]
  },
  {
   "cell_type": "code",
   "execution_count": 45,
   "metadata": {},
   "outputs": [
    {
     "name": "stdout",
     "output_type": "stream",
     "text": [
      "apple 3\n",
      "\n",
      "mangoes 4\n",
      "\n",
      "banana 10\n",
      "\n",
      "orange 20 grapes 3.1\n",
      "\n"
     ]
    }
   ],
   "source": [
    "file=open('rg_sum_task.txt')\n",
    "num_list=[]\n",
    "for i in file:\n",
    "    li=re.findall('[0-9.]+',i)\n",
    "    for j in li:\n",
    "        num_list.append(float(j))\n",
    "    print(i)\n"
   ]
  },
  {
   "cell_type": "code",
   "execution_count": 46,
   "metadata": {},
   "outputs": [
    {
     "data": {
      "text/plain": [
       "40.1"
      ]
     },
     "execution_count": 46,
     "metadata": {},
     "output_type": "execute_result"
    }
   ],
   "source": [
    "sum(num_list)"
   ]
  },
  {
   "cell_type": "code",
   "execution_count": 1,
   "metadata": {},
   "outputs": [],
   "source": [
    "import socket\n",
    "mysock=socket.socket(socket.AF_INET,socket.SOCK_STREAM)\n",
    "mysock.connect(('data.pr4e.org',80))"
   ]
  },
  {
   "cell_type": "code",
   "execution_count": 7,
   "metadata": {},
   "outputs": [
    {
     "name": "stdout",
     "output_type": "stream",
     "text": [
      "208.91.198.227\n"
     ]
    }
   ],
   "source": [
    "ip = socket.gethostbyname('www.gmrit.org')\n",
    "print(ip)"
   ]
  }
 ],
 "metadata": {
  "kernelspec": {
   "display_name": "Python 3",
   "language": "python",
   "name": "python3"
  },
  "language_info": {
   "codemirror_mode": {
    "name": "ipython",
    "version": 3
   },
   "file_extension": ".py",
   "mimetype": "text/x-python",
   "name": "python",
   "nbconvert_exporter": "python",
   "pygments_lexer": "ipython3",
   "version": "3.7.1"
  }
 },
 "nbformat": 4,
 "nbformat_minor": 2
}
